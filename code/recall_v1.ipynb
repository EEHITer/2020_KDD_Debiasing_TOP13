{
 "cells": [
  {
   "cell_type": "code",
   "execution_count": 1,
   "metadata": {
    "ExecuteTime": {
     "end_time": "2020-06-12T08:07:32.563679Z",
     "start_time": "2020-06-12T08:07:32.069590Z"
    }
   },
   "outputs": [],
   "source": [
    "%run utils.ipynb\n",
    "\n",
    "import pandas as pd\n",
    "import numpy as np\n",
    "from tqdm import tqdm\n",
    "from annoy import AnnoyIndex\n",
    "import os\n",
    "import warnings\n",
    "from collections import defaultdict\n",
    "import math\n",
    "import pickle\n",
    "import multitasking\n",
    "import signal\n",
    "\n",
    "multitasking.set_max_threads(10)\n",
    "multitasking.set_engine('process')\n",
    "signal.signal(signal.SIGINT, multitasking.killall)\n",
    "\n",
    "pd.set_option('display.max_columns', None)\n",
    "pd.set_option('display.max_rows', None)\n",
    "pd.set_option('precision', 10)\n",
    "\n",
    "warnings.filterwarnings('ignore')"
   ]
  },
  {
   "cell_type": "code",
   "execution_count": 2,
   "metadata": {
    "ExecuteTime": {
     "end_time": "2020-06-12T08:07:32.735534Z",
     "start_time": "2020-06-12T08:07:32.566779Z"
    }
   },
   "outputs": [],
   "source": [
    "df_qtime = pd.read_pickle('../user_data/data/qtime.pkl')\n",
    "df_click = pd.read_pickle('../user_data/data/click.pkl')"
   ]
  },
  {
   "cell_type": "code",
   "execution_count": 3,
   "metadata": {
    "ExecuteTime": {
     "end_time": "2020-06-12T08:07:32.753763Z",
     "start_time": "2020-06-12T08:07:32.738083Z"
    }
   },
   "outputs": [
    {
     "data": {
      "text/plain": [
       "[0]"
      ]
     },
     "execution_count": 3,
     "metadata": {},
     "output_type": "execute_result"
    }
   ],
   "source": [
    "phases = sorted(list(df_qtime['phase'].unique()))\n",
    "phases"
   ]
  },
  {
   "cell_type": "code",
   "execution_count": 4,
   "metadata": {
    "ExecuteTime": {
     "end_time": "2020-06-12T08:07:32.759252Z",
     "start_time": "2020-06-12T08:07:32.755376Z"
    }
   },
   "outputs": [],
   "source": [
    "def euc(v, w):\n",
    "    if np.max(v) == 0 and np.min(v) == 0 and np.max(w) == 0 and np.min(w) == 0:\n",
    "        return 10\n",
    "    return np.sqrt(np.sum(np.square(v - w)))"
   ]
  },
  {
   "cell_type": "code",
   "execution_count": 5,
   "metadata": {
    "ExecuteTime": {
     "end_time": "2020-06-12T08:07:32.786273Z",
     "start_time": "2020-06-12T08:07:32.760885Z"
    }
   },
   "outputs": [],
   "source": [
    "def cal_item_sim(df, user_col, item_col):\n",
    "    user_item_ = df.groupby(user_col)[item_col].agg(\n",
    "        lambda x: list(x)).reset_index()\n",
    "    user_item_dict = dict(zip(user_item_[user_col], user_item_[item_col]))\n",
    "\n",
    "    user_time_ = df.groupby(user_col)['time'].agg(\n",
    "        lambda x: list(x)).reset_index()  # 引入时间因素\n",
    "    user_time_dict = dict(zip(user_time_[user_col], user_time_['time']))\n",
    "\n",
    "    txt_vec_cols = ['txt_vec_{}'.format(i) for i in range(128)]\n",
    "    img_vec_cols = ['img_vec_{}'.format(i) for i in range(128)]\n",
    "    vec_df = pd.read_csv(\n",
    "        '../data/underexpose_train/underexpose_item_feat.csv',\n",
    "        names=['item_id'] + txt_vec_cols + img_vec_cols)\n",
    "    vec_df['txt_vec_0'] = vec_df['txt_vec_0'].apply(lambda x: x.strip()[1:])\n",
    "    vec_df['txt_vec_127'] = vec_df['txt_vec_127'].apply(\n",
    "        lambda x: x.strip()[:-1])\n",
    "    vec_df['img_vec_0'] = vec_df['img_vec_0'].apply(lambda x: x.strip()[1:])\n",
    "    vec_df['img_vec_127'] = vec_df['img_vec_127'].apply(\n",
    "        lambda x: x.strip()[:-1])\n",
    "    vec_df[txt_vec_cols + img_vec_cols] = vec_df[txt_vec_cols +\n",
    "                                                 img_vec_cols].astype('float')\n",
    "    df = df.merge(vec_df, on='item_id', how='left')\n",
    "    for f in tqdm(txt_vec_cols + img_vec_cols):\n",
    "        df[f] = df[f].fillna(0)\n",
    "    txt_vec_dict = dict(zip(df['item_id'], df[txt_vec_cols].values))\n",
    "    img_vec_dict = dict(zip(df['item_id'], df[img_vec_cols].values))\n",
    "\n",
    "    sim_item = {}\n",
    "    item_cnt = defaultdict(int)\n",
    "    for user, items in tqdm(user_item_dict.items()):\n",
    "        for loc1, item in enumerate(items):\n",
    "            item_cnt[item] += 1\n",
    "            sim_item.setdefault(item, {})\n",
    "            for loc2, relate_item in enumerate(items):\n",
    "                t1 = user_time_dict[user][loc1]\n",
    "                t2 = user_time_dict[user][loc2]\n",
    "\n",
    "                if abs(loc2 -\n",
    "                       loc1) > 5 or item == relate_item or abs(t2 -\n",
    "                                                               t1) > 0.000003:\n",
    "                    continue\n",
    "\n",
    "                sim_item[item].setdefault(relate_item, 0)\n",
    "\n",
    "                txt_euc_factor = 1 / \\\n",
    "                    np.sqrt(\n",
    "                        1 + euc(txt_vec_dict[item], txt_vec_dict[relate_item]))\n",
    "                img_euc_factor = 1 / \\\n",
    "                    np.sqrt(\n",
    "                        1 + euc(img_vec_dict[item], img_vec_dict[relate_item]) / 10)\n",
    "\n",
    "                if loc1 - loc2 > 0:\n",
    "                    sim_item[item][\n",
    "                        relate_item] += 1 * txt_euc_factor * img_euc_factor * 0.7 * (\n",
    "                            0.8**(loc1 - loc2 -\n",
    "                                  1)) * (1 - (t1 - t2) * 10000) / math.log(\n",
    "                                      1 + len(items))  # 逆向\n",
    "                else:\n",
    "                    sim_item[item][\n",
    "                        relate_item] += 1 * txt_euc_factor * img_euc_factor * 1.0 * (\n",
    "                            0.8**(loc2 - loc1 -\n",
    "                                  1)) * (1 - (t2 - t1) * 10000) / math.log(\n",
    "                                      1 + len(items))  # 正向\n",
    "\n",
    "    sim_item_corr = sim_item.copy()\n",
    "    for i, related_items in tqdm(sim_item.items()):\n",
    "        for j, cij in related_items.items():\n",
    "            sim_item_corr[i][j] = cij / math.sqrt(item_cnt[i] * item_cnt[j])\n",
    "\n",
    "    return sim_item_corr, user_item_dict, item_cnt, user_time_dict"
   ]
  },
  {
   "cell_type": "code",
   "execution_count": 6,
   "metadata": {
    "ExecuteTime": {
     "end_time": "2020-06-12T08:07:32.800678Z",
     "start_time": "2020-06-12T08:07:32.787916Z"
    }
   },
   "outputs": [],
   "source": [
    "def recall(df_qtime, item_sim_list, user_item, item_cnt, user_time_dict):\n",
    "    data_list = []\n",
    "    for user_id, query_time, item_id, phase in tqdm(df_qtime.values):\n",
    "        rank = {}\n",
    "        interacted_items = user_item[user_id]\n",
    "\n",
    "        interacted_items = interacted_items[::-1]\n",
    "        for loc, i in enumerate(interacted_items):\n",
    "            time_factor = 1 - 1000 * \\\n",
    "                (query_time - user_time_dict[user_id]\n",
    "                 [len(interacted_items)-loc-1])\n",
    "            for j, wij in sorted(item_sim_list[i].items(),\n",
    "                                 key=lambda d: d[1],\n",
    "                                 reverse=True)[0:500]:\n",
    "                if j not in interacted_items:\n",
    "                    rank.setdefault(j, 0)\n",
    "                    rank[j] += wij * (0.7**loc) * item_cnt[j] * time_factor\n",
    "\n",
    "        sim_items = sorted(rank.items(), key=lambda d: d[1],\n",
    "                           reverse=True)[:100]\n",
    "        item_ids = [item[0] for item in sim_items]\n",
    "        item_sim_scores = [item[1] for item in sim_items]\n",
    "\n",
    "        df_temp = pd.DataFrame()\n",
    "        df_temp['item_id'] = item_ids\n",
    "        df_temp['sim_score'] = item_sim_scores\n",
    "        df_temp['user_id'] = user_id\n",
    "        df_temp['query_time'] = query_time\n",
    "        df_temp['phase'] = phase\n",
    "\n",
    "        if item_id == -1:\n",
    "            df_temp['label'] = np.nan\n",
    "        else:\n",
    "            df_temp['label'] = 0\n",
    "            df_temp.loc[df_temp['item_id'] == item_id, 'label'] = 1\n",
    "\n",
    "        df_temp.sort_values(['sim_score'], inplace=True, ascending=False)\n",
    "        df_temp = df_temp[[\n",
    "            'user_id', 'phase', 'query_time', 'item_id', 'sim_score', 'label'\n",
    "        ]]\n",
    "        df_temp['user_id'] = df_temp['user_id'].astype('int')\n",
    "        df_temp['item_id'] = df_temp['item_id'].astype('int')\n",
    "\n",
    "        data_list.append(df_temp)\n",
    "\n",
    "    df_data = pd.concat(data_list, sort=False)\n",
    "\n",
    "    return df_data"
   ]
  },
  {
   "cell_type": "code",
   "execution_count": 7,
   "metadata": {
    "ExecuteTime": {
     "end_time": "2020-06-12T08:07:32.811392Z",
     "start_time": "2020-06-12T08:07:32.802213Z"
    }
   },
   "outputs": [],
   "source": [
    "@multitasking.task\n",
    "def work(phase, force=False):\n",
    "    os.makedirs('../user_data/model/recall_v1', exist_ok=True)\n",
    "\n",
    "    if force or (\n",
    "            not os.path.exists(\n",
    "                '../user_data/model/recall_v1/sim_{}.pkl'.format(phase))\n",
    "            or not os.path.exists(\n",
    "                '../user_data/model/recall_v1/recall_{}.pkl'.format(phase))):\n",
    "        # 获取当前阶段的click\n",
    "        df_click_phase = df_click[df_click['phase'] == phase]\n",
    "        item_sim, user_item, item_cnt, user_time_dict = cal_item_sim(\n",
    "            df_click_phase, 'user_id', 'item_id')\n",
    "\n",
    "        f = open('../user_data/model/recall_v1/sim_{}.pkl'.format(phase), 'wb')\n",
    "        pickle.dump(item_sim, f)\n",
    "        f.close()\n",
    "\n",
    "        # 获取当前阶段的qtime, 召回\n",
    "        df_qtime_phase = df_qtime[df_qtime['phase'] == phase]\n",
    "        df_data = recall(df_qtime_phase, item_sim, user_item, item_cnt,\n",
    "                         user_time_dict)\n",
    "        df_data.to_pickle(\n",
    "            '../user_data/model/recall_v1/recall_{}.pkl'.format(phase))\n",
    "\n",
    "        print('phase {} finish'.format(phase))"
   ]
  },
  {
   "cell_type": "code",
   "execution_count": null,
   "metadata": {
    "ExecuteTime": {
     "start_time": "2020-06-12T08:07:31.326Z"
    },
    "scrolled": false
   },
   "outputs": [
    {
     "name": "stdout",
     "output_type": "stream",
     "text": [
      "合并任务\n"
     ]
    },
    {
     "name": "stderr",
     "output_type": "stream",
     "text": [
      " 91%|█████████ | 16843/18504 [00:17<00:01, 967.08it/s]"
     ]
    }
   ],
   "source": [
    "item_sim_phase = {}\n",
    "df_recall = pd.DataFrame()\n",
    "val_score = np.array([0.0, 0.0, 0.0, 0.0])\n",
    "force = False\n",
    "\n",
    "for phase in phases:\n",
    "    work(phase, force)\n",
    "\n",
    "multitasking.wait_for_tasks()\n",
    "print('合并任务')\n",
    "\n",
    "for phase in phases:\n",
    "    f = open('../user_data/model/recall_v1/sim_{}.pkl'.format(phase), 'rb')\n",
    "    item_sim = pickle.load(f)\n",
    "    f.close()\n",
    "\n",
    "    df_data = pd.read_pickle(\n",
    "        '../user_data/model/recall_v1/recall_{}.pkl'.format(phase))\n",
    "\n",
    "    item_sim_phase[phase] = item_sim\n",
    "    df_recall = df_recall.append(df_data)\n",
    "\n",
    "    score = evaluate_scores(df_data, phase)\n",
    "    val_score += score\n",
    "\n",
    "    print('phase', phase, score)"
   ]
  },
  {
   "cell_type": "code",
   "execution_count": null,
   "metadata": {
    "ExecuteTime": {
     "start_time": "2020-06-12T08:07:31.328Z"
    }
   },
   "outputs": [],
   "source": [
    "# 保存相似度字典给后续使用\n",
    "f = open('../user_data/model/if_sim.pkl', 'wb')\n",
    "pickle.dump(item_sim_phase, f)\n",
    "f.close()"
   ]
  },
  {
   "cell_type": "code",
   "execution_count": null,
   "metadata": {
    "ExecuteTime": {
     "start_time": "2020-06-12T08:07:31.329Z"
    }
   },
   "outputs": [],
   "source": [
    "val_score"
   ]
  },
  {
   "cell_type": "code",
   "execution_count": null,
   "metadata": {
    "ExecuteTime": {
     "start_time": "2020-06-12T08:07:31.330Z"
    },
    "scrolled": true
   },
   "outputs": [],
   "source": [
    "df_recall.sort_values(['user_id', 'phase', 'query_time'], inplace=True)\n",
    "df_recall.to_pickle('../user_data/data/recall_v1.pkl')\n",
    "df_recall.head()"
   ]
  }
 ],
 "metadata": {
  "kernelspec": {
   "display_name": "Python 3",
   "language": "python",
   "name": "python3"
  },
  "language_info": {
   "codemirror_mode": {
    "name": "ipython",
    "version": 3
   },
   "file_extension": ".py",
   "mimetype": "text/x-python",
   "name": "python",
   "nbconvert_exporter": "python",
   "pygments_lexer": "ipython3",
   "version": "3.6.5"
  }
 },
 "nbformat": 4,
 "nbformat_minor": 2
}
