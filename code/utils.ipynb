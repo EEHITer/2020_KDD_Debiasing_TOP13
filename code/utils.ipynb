{
 "cells": [
  {
   "cell_type": "code",
   "execution_count": 1,
   "metadata": {
    "ExecuteTime": {
     "end_time": "2020-05-14T05:16:05.780117Z",
     "start_time": "2020-05-14T05:16:05.770862Z"
    }
   },
   "outputs": [],
   "source": [
    "def evaluate(df, median_item_degree, item_degree_map, num_cases_full, num_cases_half):\n",
    "    gg = df.groupby(['user_id'])\n",
    "\n",
    "    ndcg_50_full = 0.0\n",
    "    hitrate_50_full = 0.0\n",
    "\n",
    "    ndcg_50_half = 0.0\n",
    "    hitrate_50_half = 0.0\n",
    "\n",
    "    for _, g in tqdm(gg):\n",
    "        try:\n",
    "            item_id = g[g['label'] == 1]['item_id'].values[0]\n",
    "            item_degree = item_degree_map[item_id]\n",
    "        except Exception as e:\n",
    "            continue\n",
    "\n",
    "        predictions = g['item_id'].values.tolist()\n",
    "\n",
    "        rank = 0\n",
    "        while rank < 50 and predictions[rank] != item_id:\n",
    "            rank += 1\n",
    "\n",
    "        if rank < 50:\n",
    "            ndcg_50_full += 1.0 / np.log2(rank + 2.0)\n",
    "            hitrate_50_full += 1.0\n",
    "\n",
    "        if item_degree <= median_item_degree:\n",
    "            if rank < 50:\n",
    "                ndcg_50_half += 1.0 / np.log2(rank + 2.0)\n",
    "                hitrate_50_half += 1.0\n",
    "\n",
    "    ndcg_50_full /= num_cases_full\n",
    "    hitrate_50_full /= num_cases_full\n",
    "\n",
    "    ndcg_50_half /= num_cases_half\n",
    "    hitrate_50_half /= num_cases_half\n",
    "\n",
    "    return ndcg_50_full, hitrate_50_full, ndcg_50_half, hitrate_50_half"
   ]
  },
  {
   "cell_type": "code",
   "execution_count": 1,
   "metadata": {
    "ExecuteTime": {
     "end_time": "2020-05-21T07:07:31.917326Z",
     "start_time": "2020-05-21T07:07:31.904885Z"
    }
   },
   "outputs": [],
   "source": [
    "def evaluate_scores(df, phase):\n",
    "    df_qtime = pd.read_pickle('../user_data/data/qtime.pkl')\n",
    "    df_click = pd.read_pickle('../user_data/data/click.pkl')\n",
    "    \n",
    "    df_qtime = df_qtime[df_qtime['phase']==phase]\n",
    "    df_click = df_click[df_click['phase']==phase]\n",
    "\n",
    "    oof_answer = df_qtime[df_qtime['item_id'] != -1]\n",
    "    num_cases_full = oof_answer.shape[0]\n",
    "\n",
    "    answer_items = oof_answer['item_id'].values\n",
    "    item_degree = df_click['item_id'].value_counts().reset_index()\n",
    "    item_degree.columns = ['item_id', 'degree']\n",
    "\n",
    "    answer_item_degree = item_degree[item_degree['item_id'].isin(answer_items)]\n",
    "    list_item_degress = answer_item_degree['degree'].values.tolist()\n",
    "    median_item_degree = list_item_degress[len(list_item_degress) // 2]\n",
    "    item_degree_map = dict(zip(item_degree['item_id'], item_degree['degree']))\n",
    "    num_cases_half = answer_item_degree[answer_item_degree['degree']\n",
    "                                        <= median_item_degree].shape[0]\n",
    "\n",
    "    ndcg_50_full, hitrate_50_full, ndcg_50_half, hitrate_50_half = evaluate(\n",
    "        df, median_item_degree, item_degree_map, num_cases_full, num_cases_half)\n",
    "    return ndcg_50_full, hitrate_50_full, ndcg_50_half, hitrate_50_half"
   ]
  }
 ],
 "metadata": {
  "kernelspec": {
   "display_name": "Python 3",
   "language": "python",
   "name": "python3"
  },
  "language_info": {
   "codemirror_mode": {
    "name": "ipython",
    "version": 3
   },
   "file_extension": ".py",
   "mimetype": "text/x-python",
   "name": "python",
   "nbconvert_exporter": "python",
   "pygments_lexer": "ipython3",
   "version": "3.6.5"
  }
 },
 "nbformat": 4,
 "nbformat_minor": 4
}
