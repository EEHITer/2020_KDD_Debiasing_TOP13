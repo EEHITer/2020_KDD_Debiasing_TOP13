{
 "cells": [
  {
   "cell_type": "code",
   "execution_count": null,
   "metadata": {
    "ExecuteTime": {
     "end_time": "2020-06-12T09:23:49.822600Z",
     "start_time": "2020-06-12T09:23:48.966644Z"
    }
   },
   "outputs": [],
   "source": [
    "%run utils.ipynb\n",
    "\n",
    "import pandas as pd\n",
    "import numpy as np\n",
    "from tqdm import tqdm\n",
    "from annoy import AnnoyIndex\n",
    "import os\n",
    "import warnings\n",
    "from collections import defaultdict\n",
    "import math\n",
    "import pickle\n",
    "import multitasking\n",
    "import signal\n",
    "from gensim.models import Word2Vec\n",
    "\n",
    "multitasking.set_max_threads(10)\n",
    "multitasking.set_engine('process')\n",
    "signal.signal(signal.SIGINT, multitasking.killall)\n",
    "\n",
    "pd.set_option('display.max_columns', None)\n",
    "pd.set_option('display.max_rows', None)\n",
    "pd.set_option('precision', 10)\n",
    "\n",
    "warnings.filterwarnings('ignore')"
   ]
  },
  {
   "cell_type": "code",
   "execution_count": null,
   "metadata": {
    "ExecuteTime": {
     "end_time": "2020-06-12T09:23:49.826962Z",
     "start_time": "2020-06-12T09:23:49.824525Z"
    }
   },
   "outputs": [],
   "source": [
    "seed = 2020"
   ]
  },
  {
   "cell_type": "code",
   "execution_count": null,
   "metadata": {
    "ExecuteTime": {
     "end_time": "2020-06-12T09:23:49.979350Z",
     "start_time": "2020-06-12T09:23:49.828575Z"
    }
   },
   "outputs": [],
   "source": [
    "df_qtime = pd.read_pickle('../user_data/data/qtime.pkl')\n",
    "df_click = pd.read_pickle('../user_data/data/click.pkl')"
   ]
  },
  {
   "cell_type": "code",
   "execution_count": null,
   "metadata": {
    "ExecuteTime": {
     "end_time": "2020-06-12T09:23:49.993671Z",
     "start_time": "2020-06-12T09:23:49.981339Z"
    }
   },
   "outputs": [],
   "source": [
    "phases = sorted(list(df_qtime['phase'].unique()))\n",
    "phases"
   ]
  },
  {
   "cell_type": "code",
   "execution_count": null,
   "metadata": {
    "ExecuteTime": {
     "end_time": "2020-06-12T09:23:50.001774Z",
     "start_time": "2020-06-12T09:23:49.995467Z"
    }
   },
   "outputs": [],
   "source": [
    "# 根据历史点击记录做word2vec\n",
    "def item2vec(df_, f1, f2):\n",
    "    df = df_.copy()\n",
    "    tmp = df.groupby(f1, as_index=False)[f2].agg({'{}_{}_list'.format(f1, f2): list})\n",
    "\n",
    "    sentences = tmp['{}_{}_list'.format(f1, f2)].values.tolist()\n",
    "    del tmp['{}_{}_list'.format(f1, f2)]\n",
    "    for i in range(len(sentences)):\n",
    "        x = [str(x) for x in sentences[i]]\n",
    "        sentences[i] = x\n",
    "\n",
    "    model = Word2Vec(sentences, size=256, window=5, min_count=1,\n",
    "                         sg=1, hs=0, seed=seed, iter=300, negative=5, workers=6)\n",
    "    return model"
   ]
  },
  {
   "cell_type": "code",
   "execution_count": null,
   "metadata": {
    "ExecuteTime": {
     "end_time": "2020-06-12T09:23:50.012789Z",
     "start_time": "2020-06-12T09:23:50.003283Z"
    }
   },
   "outputs": [],
   "source": [
    "def recall(df_qtime, model, user_item):\n",
    "    data_list = []\n",
    "\n",
    "    for user_id, query_time, item_id, phase in tqdm(df_qtime.values):\n",
    "        rank = {}\n",
    "        interacted_items = user_item[user_id]\n",
    "        sim_items = model.wv.most_similar(positive=[str(x) for x in interacted_items[-2:]], topn=100)\n",
    "        item_ids = [int(item[0]) for item in sim_items]\n",
    "        item_sim_scores = [item[1] for item in sim_items]\n",
    "\n",
    "        df_temp = pd.DataFrame()\n",
    "        df_temp['item_id'] = item_ids\n",
    "        df_temp['sim_score'] = item_sim_scores\n",
    "        df_temp['user_id'] = user_id\n",
    "        df_temp['query_time'] = query_time\n",
    "        df_temp['phase'] = phase\n",
    "\n",
    "        if item_id == -1:\n",
    "            df_temp['label'] = np.nan\n",
    "        else:\n",
    "            df_temp['label'] = 0\n",
    "            df_temp.loc[df_temp['item_id'] == item_id, 'label'] = 1\n",
    "\n",
    "        df_temp.sort_values(['sim_score'], inplace=True, ascending=False)\n",
    "        df_temp = df_temp[['user_id', 'phase', 'query_time',\n",
    "                           'item_id', 'sim_score', 'label']]\n",
    "        df_temp['user_id'] = df_temp['user_id'].astype('int')\n",
    "        df_temp['item_id'] = df_temp['item_id'].astype('int')\n",
    "\n",
    "        data_list.append(df_temp)\n",
    "\n",
    "    df_data = pd.concat(data_list, sort=False)\n",
    "    return df_data"
   ]
  },
  {
   "cell_type": "code",
   "execution_count": null,
   "metadata": {
    "ExecuteTime": {
     "end_time": "2020-06-12T09:23:50.022991Z",
     "start_time": "2020-06-12T09:23:50.014639Z"
    }
   },
   "outputs": [],
   "source": [
    "@multitasking.task\n",
    "def work(phase, force=False):\n",
    "    os.makedirs('../user_data/model/recall_v6', exist_ok=True)\n",
    "\n",
    "    if force or (not os.path.exists('../user_data/model/recall_v6/w2v_{}.m'.format(phase))):\n",
    "        # 获取当前阶段的click\n",
    "        df_click_phase = df_click[df_click['phase'] == phase]\n",
    "        model = item2vec(\n",
    "            df_click_phase, 'user_id', 'item_id')\n",
    "        \n",
    "        # 保存模型\n",
    "        model.save('../user_data/model/recall_v6/w2v_{}.m'.format(phase))\n",
    "\n",
    "        user_item_ = df_click_phase.groupby(\n",
    "            'user_id')['item_id'].agg(list).reset_index()\n",
    "        user_item_dict = dict(\n",
    "            zip(user_item_['user_id'], user_item_['item_id']))\n",
    "\n",
    "        # 获取当前阶段的qtime, 召回\n",
    "        df_qtime_phase = df_qtime[df_qtime['phase'] == phase]\n",
    "        df_data = recall(df_qtime_phase, model, user_item_dict)\n",
    "        df_data.to_pickle('../user_data/model/recall_v6/recall_{}.pkl'.format(phase))\n",
    "\n",
    "        print('phase {} finish'.format(phase))"
   ]
  },
  {
   "cell_type": "code",
   "execution_count": null,
   "metadata": {
    "ExecuteTime": {
     "end_time": "2020-06-12T09:36:45.706965Z",
     "start_time": "2020-06-12T09:23:50.024640Z"
    },
    "scrolled": true
   },
   "outputs": [],
   "source": [
    "item_sim_phase = {}\n",
    "df_recall = pd.DataFrame()\n",
    "val_score = np.array([0.0, 0.0, 0.0, 0.0])\n",
    "force = True\n",
    "\n",
    "for phase in phases:\n",
    "    work(phase, force)\n",
    "    \n",
    "multitasking.wait_for_tasks()\n",
    "print('合并任务')\n",
    "\n",
    "for phase in phases:\n",
    "    df_data = pd.read_pickle('../user_data/model/recall_v6/recall_{}.pkl'.format(phase))\n",
    "    df_recall = df_recall.append(df_data)\n",
    "\n",
    "    score = evaluate_scores(df_data, phase)\n",
    "    val_score += score\n",
    "\n",
    "    print('phase', phase, score)"
   ]
  },
  {
   "cell_type": "code",
   "execution_count": null,
   "metadata": {
    "ExecuteTime": {
     "end_time": "2020-06-12T09:36:45.714228Z",
     "start_time": "2020-06-12T09:36:45.709370Z"
    }
   },
   "outputs": [],
   "source": [
    "val_score"
   ]
  },
  {
   "cell_type": "code",
   "execution_count": null,
   "metadata": {
    "ExecuteTime": {
     "end_time": "2020-06-12T09:36:46.224560Z",
     "start_time": "2020-06-12T09:36:45.715766Z"
    }
   },
   "outputs": [],
   "source": [
    "df_recall.sort_values(['user_id', 'phase', 'query_time'], inplace=True)\n",
    "df_recall.to_pickle('../user_data/data/recall_v6.pkl')\n",
    "df_recall.head()"
   ]
  }
 ],
 "metadata": {
  "kernelspec": {
   "display_name": "Python [conda env:dm] *",
   "language": "python",
   "name": "conda-env-dm-py"
  },
  "language_info": {
   "codemirror_mode": {
    "name": "ipython",
    "version": 3
   },
   "file_extension": ".py",
   "mimetype": "text/x-python",
   "name": "python",
   "nbconvert_exporter": "python",
   "pygments_lexer": "ipython3",
   "version": "3.6.5"
  }
 },
 "nbformat": 4,
 "nbformat_minor": 2
}
