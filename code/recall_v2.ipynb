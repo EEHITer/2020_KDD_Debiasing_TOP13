{
 "cells": [
  {
   "cell_type": "code",
   "execution_count": 1,
   "metadata": {
    "ExecuteTime": {
     "end_time": "2020-06-12T08:07:34.933387Z",
     "start_time": "2020-06-12T08:07:34.487069Z"
    }
   },
   "outputs": [],
   "source": [
    "%run utils.ipynb\n",
    "\n",
    "import pandas as pd\n",
    "import numpy as np\n",
    "from tqdm import tqdm\n",
    "from annoy import AnnoyIndex\n",
    "import os\n",
    "import warnings\n",
    "from collections import defaultdict\n",
    "import math\n",
    "import pickle\n",
    "import multitasking\n",
    "import signal\n",
    "\n",
    "multitasking.set_max_threads(10)\n",
    "multitasking.set_engine('process')\n",
    "signal.signal(signal.SIGINT, multitasking.killall)\n",
    "\n",
    "pd.set_option('display.max_columns', None)\n",
    "pd.set_option('display.max_rows', None)\n",
    "pd.set_option('precision', 10)\n",
    "\n",
    "warnings.filterwarnings('ignore')"
   ]
  },
  {
   "cell_type": "code",
   "execution_count": 2,
   "metadata": {
    "ExecuteTime": {
     "end_time": "2020-06-12T08:07:35.065666Z",
     "start_time": "2020-06-12T08:07:34.935946Z"
    }
   },
   "outputs": [],
   "source": [
    "df_qtime = pd.read_pickle('../user_data/data/qtime.pkl')\n",
    "df_click = pd.read_pickle('../user_data/data/click.pkl')"
   ]
  },
  {
   "cell_type": "code",
   "execution_count": 3,
   "metadata": {
    "ExecuteTime": {
     "end_time": "2020-06-12T08:07:35.079735Z",
     "start_time": "2020-06-12T08:07:35.067787Z"
    }
   },
   "outputs": [
    {
     "data": {
      "text/plain": [
       "[0]"
      ]
     },
     "execution_count": 3,
     "metadata": {},
     "output_type": "execute_result"
    }
   ],
   "source": [
    "phases = sorted(list(df_qtime['phase'].unique()))\n",
    "phases"
   ]
  },
  {
   "cell_type": "code",
   "execution_count": 4,
   "metadata": {
    "ExecuteTime": {
     "end_time": "2020-06-12T08:07:35.090992Z",
     "start_time": "2020-06-12T08:07:35.081344Z"
    }
   },
   "outputs": [],
   "source": [
    "def cal_item_sim(df, user_col, item_col):\n",
    "    user_item_ = df.groupby(user_col)[item_col].agg(list).reset_index()\n",
    "    user_item_dict = dict(zip(user_item_[user_col], user_item_[item_col]))\n",
    "\n",
    "    item_user_ = df.groupby(item_col)[user_col].agg(list).reset_index()\n",
    "    item_user_dict = dict(zip(item_user_[item_col], item_user_[user_col]))\n",
    "\n",
    "    user_time_ = df.groupby(user_col)['time'].agg(\n",
    "        lambda x: list(x)).reset_index()\n",
    "    user_time_dict = dict(zip(user_time_[user_col], user_time_['time']))\n",
    "\n",
    "    sim_item = {}\n",
    "    for item, users in tqdm(item_user_dict.items()):\n",
    "        sim_item.setdefault(item, {})\n",
    "\n",
    "        for u in users:\n",
    "            items = user_item_dict[u]\n",
    "\n",
    "            for relate_item in items:\n",
    "                loc1 = user_item_dict[u].index(item)\n",
    "                loc2 = user_item_dict[u].index(relate_item)\n",
    "\n",
    "                t1 = user_time_dict[u][loc1]\n",
    "                t2 = user_time_dict[u][loc2]\n",
    "\n",
    "                sim_item[item].setdefault(relate_item, 0)\n",
    "                sim_item[item][relate_item] += 1 / \\\n",
    "                    (math.log(len(users)+1) * math.log(len(items)+1))\n",
    "\n",
    "    return sim_item, user_item_dict"
   ]
  },
  {
   "cell_type": "code",
   "execution_count": 5,
   "metadata": {
    "ExecuteTime": {
     "end_time": "2020-06-12T08:07:35.103685Z",
     "start_time": "2020-06-12T08:07:35.092473Z"
    }
   },
   "outputs": [],
   "source": [
    "def recall(df_qtime, item_sim_list, user_item):\n",
    "    data_list = []\n",
    "\n",
    "    for user_id, query_time, item_id, phase in tqdm(df_qtime.values):\n",
    "        rank = {}\n",
    "        interacted_items = user_item[user_id]\n",
    "        interacted_items = interacted_items[::-1]\n",
    "        for loc, i in enumerate(interacted_items):\n",
    "            for j, wij in sorted(item_sim_list[i].items(),\n",
    "                                 key=lambda d: d[1],\n",
    "                                 reverse=True)[0:500]:\n",
    "                if j not in interacted_items:\n",
    "                    rank.setdefault(j, 0)\n",
    "                    rank[j] += wij * (0.7**loc)\n",
    "\n",
    "        sim_items = sorted(rank.items(), key=lambda d: d[1],\n",
    "                           reverse=True)[:100]\n",
    "        item_ids = [item[0] for item in sim_items]\n",
    "        item_sim_scores = [item[1] for item in sim_items]\n",
    "\n",
    "        df_temp = pd.DataFrame()\n",
    "        df_temp['item_id'] = item_ids\n",
    "        df_temp['sim_score'] = item_sim_scores\n",
    "        df_temp['user_id'] = user_id\n",
    "        df_temp['query_time'] = query_time\n",
    "        df_temp['phase'] = phase\n",
    "\n",
    "        if item_id == -1:\n",
    "            df_temp['label'] = np.nan\n",
    "        else:\n",
    "            df_temp['label'] = 0\n",
    "            df_temp.loc[df_temp['item_id'] == item_id, 'label'] = 1\n",
    "\n",
    "        df_temp.sort_values(['sim_score'], inplace=True, ascending=False)\n",
    "        df_temp = df_temp[[\n",
    "            'user_id', 'phase', 'query_time', 'item_id', 'sim_score', 'label'\n",
    "        ]]\n",
    "        df_temp['user_id'] = df_temp['user_id'].astype('int')\n",
    "        df_temp['item_id'] = df_temp['item_id'].astype('int')\n",
    "\n",
    "        data_list.append(df_temp)\n",
    "\n",
    "    df_data = pd.concat(data_list, sort=False)\n",
    "    return df_data"
   ]
  },
  {
   "cell_type": "code",
   "execution_count": 6,
   "metadata": {
    "ExecuteTime": {
     "end_time": "2020-06-12T08:07:35.117052Z",
     "start_time": "2020-06-12T08:07:35.105116Z"
    }
   },
   "outputs": [],
   "source": [
    "@multitasking.task\n",
    "def work(phase, force=False):\n",
    "    os.makedirs('../user_data/model/recall_v2', exist_ok=True)\n",
    "\n",
    "    if force or (\n",
    "            not os.path.exists(\n",
    "                '../user_data/model/recall_v2/sim_{}.pkl'.format(phase))\n",
    "            or not os.path.exists(\n",
    "                '../user_data/model/recall_v2/recall_{}.pkl'.format(phase))):\n",
    "        # 获取当前阶段的click\n",
    "        df_click_phase = df_click[df_click['phase'] == phase]\n",
    "        sim_item, user_item_dict = cal_item_sim(df_click_phase, 'user_id',\n",
    "                                                'item_id')\n",
    "\n",
    "        f = open('../user_data/model/recall_v2/sim_{}.pkl'.format(phase), 'wb')\n",
    "        pickle.dump(sim_item, f)\n",
    "        f.close()\n",
    "\n",
    "        # 获取当前阶段的qtime, 召回\n",
    "        df_qtime_phase = df_qtime[df_qtime['phase'] == phase]\n",
    "        df_data = recall(df_qtime_phase, sim_item, user_item_dict)\n",
    "        df_data.to_pickle(\n",
    "            '../user_data/model/recall_v2/recall_{}.pkl'.format(phase))\n",
    "\n",
    "        print('phase {} finish'.format(phase))"
   ]
  },
  {
   "cell_type": "code",
   "execution_count": 7,
   "metadata": {
    "ExecuteTime": {
     "end_time": "2020-06-12T08:07:56.177270Z",
     "start_time": "2020-06-12T08:07:35.119222Z"
    },
    "scrolled": false
   },
   "outputs": [
    {
     "name": "stdout",
     "output_type": "stream",
     "text": [
      "合并任务\n"
     ]
    },
    {
     "name": "stderr",
     "output_type": "stream",
     "text": [
      "100%|██████████| 18505/18505 [00:18<00:00, 987.60it/s]"
     ]
    },
    {
     "name": "stdout",
     "output_type": "stream",
     "text": [
      "phase 0 (0.049057716332143474, 0.10996318726992044, 0.0229912553375824, 0.0649183147033534)\n"
     ]
    },
    {
     "name": "stderr",
     "output_type": "stream",
     "text": [
      "\n"
     ]
    }
   ],
   "source": [
    "item_sim_phase = {}\n",
    "df_recall = pd.DataFrame()\n",
    "val_score = np.array([0.0, 0.0, 0.0, 0.0])\n",
    "force = False\n",
    "\n",
    "for phase in phases:\n",
    "    work(phase, force)\n",
    "\n",
    "multitasking.wait_for_tasks()\n",
    "print('合并任务')\n",
    "\n",
    "for phase in phases:\n",
    "    f = open('../user_data/model/recall_v2/sim_{}.pkl'.format(phase), 'rb')\n",
    "    item_sim = pickle.load(f)\n",
    "    f.close()\n",
    "\n",
    "    df_data = pd.read_pickle(\n",
    "        '../user_data/model/recall_v2/recall_{}.pkl'.format(phase))\n",
    "\n",
    "    item_sim_phase[phase] = item_sim\n",
    "    df_recall = df_recall.append(df_data)\n",
    "\n",
    "    score = evaluate_scores(df_data, phase)\n",
    "    val_score += score\n",
    "\n",
    "    print('phase', phase, score)"
   ]
  },
  {
   "cell_type": "code",
   "execution_count": 8,
   "metadata": {
    "ExecuteTime": {
     "end_time": "2020-06-12T08:07:56.778571Z",
     "start_time": "2020-06-12T08:07:56.179625Z"
    }
   },
   "outputs": [],
   "source": [
    "# 保存相似度字典给后续使用\n",
    "f = open('../user_data/model/bn_sim.pkl', 'wb')\n",
    "pickle.dump(item_sim_phase, f)\n",
    "f.close()"
   ]
  },
  {
   "cell_type": "code",
   "execution_count": 9,
   "metadata": {
    "ExecuteTime": {
     "end_time": "2020-06-12T08:07:56.784646Z",
     "start_time": "2020-06-12T08:07:56.780400Z"
    }
   },
   "outputs": [
    {
     "data": {
      "text/plain": [
       "array([0.04905772, 0.10996319, 0.02299126, 0.06491831])"
      ]
     },
     "execution_count": 9,
     "metadata": {},
     "output_type": "execute_result"
    }
   ],
   "source": [
    "val_score"
   ]
  },
  {
   "cell_type": "code",
   "execution_count": 10,
   "metadata": {
    "ExecuteTime": {
     "end_time": "2020-06-12T08:07:57.281889Z",
     "start_time": "2020-06-12T08:07:56.786100Z"
    }
   },
   "outputs": [
    {
     "data": {
      "text/html": [
       "<div>\n",
       "<style scoped>\n",
       "    .dataframe tbody tr th:only-of-type {\n",
       "        vertical-align: middle;\n",
       "    }\n",
       "\n",
       "    .dataframe tbody tr th {\n",
       "        vertical-align: top;\n",
       "    }\n",
       "\n",
       "    .dataframe thead th {\n",
       "        text-align: right;\n",
       "    }\n",
       "</style>\n",
       "<table border=\"1\" class=\"dataframe\">\n",
       "  <thead>\n",
       "    <tr style=\"text-align: right;\">\n",
       "      <th></th>\n",
       "      <th>user_id</th>\n",
       "      <th>phase</th>\n",
       "      <th>query_time</th>\n",
       "      <th>item_id</th>\n",
       "      <th>sim_score</th>\n",
       "      <th>label</th>\n",
       "    </tr>\n",
       "  </thead>\n",
       "  <tbody>\n",
       "    <tr>\n",
       "      <th>0</th>\n",
       "      <td>1</td>\n",
       "      <td>0.0</td>\n",
       "      <td>0.9839419315</td>\n",
       "      <td>87837</td>\n",
       "      <td>0.3453144185</td>\n",
       "      <td>0.0</td>\n",
       "    </tr>\n",
       "    <tr>\n",
       "      <th>2</th>\n",
       "      <td>1</td>\n",
       "      <td>0.0</td>\n",
       "      <td>0.9839419315</td>\n",
       "      <td>19228</td>\n",
       "      <td>0.3453144185</td>\n",
       "      <td>0.0</td>\n",
       "    </tr>\n",
       "    <tr>\n",
       "      <th>3</th>\n",
       "      <td>1</td>\n",
       "      <td>0.0</td>\n",
       "      <td>0.9839419315</td>\n",
       "      <td>109854</td>\n",
       "      <td>0.3453144185</td>\n",
       "      <td>0.0</td>\n",
       "    </tr>\n",
       "    <tr>\n",
       "      <th>4</th>\n",
       "      <td>1</td>\n",
       "      <td>0.0</td>\n",
       "      <td>0.9839419315</td>\n",
       "      <td>55738</td>\n",
       "      <td>0.3453144185</td>\n",
       "      <td>0.0</td>\n",
       "    </tr>\n",
       "    <tr>\n",
       "      <th>1</th>\n",
       "      <td>1</td>\n",
       "      <td>0.0</td>\n",
       "      <td>0.9839419315</td>\n",
       "      <td>91290</td>\n",
       "      <td>0.3453144185</td>\n",
       "      <td>0.0</td>\n",
       "    </tr>\n",
       "  </tbody>\n",
       "</table>\n",
       "</div>"
      ],
      "text/plain": [
       "   user_id  phase    query_time  item_id     sim_score  label\n",
       "0        1    0.0  0.9839419315    87837  0.3453144185    0.0\n",
       "2        1    0.0  0.9839419315    19228  0.3453144185    0.0\n",
       "3        1    0.0  0.9839419315   109854  0.3453144185    0.0\n",
       "4        1    0.0  0.9839419315    55738  0.3453144185    0.0\n",
       "1        1    0.0  0.9839419315    91290  0.3453144185    0.0"
      ]
     },
     "execution_count": 10,
     "metadata": {},
     "output_type": "execute_result"
    }
   ],
   "source": [
    "df_recall.sort_values(['user_id', 'phase', 'query_time'], inplace=True)\n",
    "df_recall.to_pickle('../user_data/data/recall_v2.pkl')\n",
    "df_recall.head()"
   ]
  }
 ],
 "metadata": {
  "kernelspec": {
   "display_name": "Python 3",
   "language": "python",
   "name": "python3"
  },
  "language_info": {
   "codemirror_mode": {
    "name": "ipython",
    "version": 3
   },
   "file_extension": ".py",
   "mimetype": "text/x-python",
   "name": "python",
   "nbconvert_exporter": "python",
   "pygments_lexer": "ipython3",
   "version": "3.6.5"
  }
 },
 "nbformat": 4,
 "nbformat_minor": 2
}
