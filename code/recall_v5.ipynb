{
 "cells": [
  {
   "cell_type": "code",
   "execution_count": 1,
   "metadata": {
    "ExecuteTime": {
     "end_time": "2020-06-12T08:35:11.982180Z",
     "start_time": "2020-06-12T08:35:11.527897Z"
    }
   },
   "outputs": [],
   "source": [
    "%run utils.ipynb\n",
    "\n",
    "import pandas as pd\n",
    "import numpy as np\n",
    "from tqdm import tqdm\n",
    "from annoy import AnnoyIndex\n",
    "import os\n",
    "import warnings\n",
    "from collections import defaultdict\n",
    "import math\n",
    "import pickle\n",
    "import gc\n",
    "import multitasking\n",
    "import signal\n",
    "\n",
    "multitasking.set_max_threads(10)\n",
    "multitasking.set_engine('process')\n",
    "signal.signal(signal.SIGINT, multitasking.killall)\n",
    "\n",
    "pd.set_option('display.max_columns', None)\n",
    "pd.set_option('display.max_rows', None)\n",
    "pd.set_option('precision', 10)\n",
    "\n",
    "warnings.filterwarnings('ignore')"
   ]
  },
  {
   "cell_type": "code",
   "execution_count": 2,
   "metadata": {
    "ExecuteTime": {
     "end_time": "2020-06-12T08:35:12.118628Z",
     "start_time": "2020-06-12T08:35:11.984934Z"
    }
   },
   "outputs": [],
   "source": [
    "df_qtime = pd.read_pickle('../user_data/data/qtime.pkl')\n",
    "df_click = pd.read_pickle('../user_data/data/click.pkl')"
   ]
  },
  {
   "cell_type": "code",
   "execution_count": 3,
   "metadata": {
    "ExecuteTime": {
     "end_time": "2020-06-12T08:35:12.134818Z",
     "start_time": "2020-06-12T08:35:12.121003Z"
    }
   },
   "outputs": [
    {
     "data": {
      "text/plain": [
       "[0]"
      ]
     },
     "execution_count": 3,
     "metadata": {},
     "output_type": "execute_result"
    }
   ],
   "source": [
    "phases = sorted(list(df_qtime['phase'].unique()))\n",
    "phases"
   ]
  },
  {
   "cell_type": "code",
   "execution_count": 4,
   "metadata": {
    "ExecuteTime": {
     "end_time": "2020-06-12T08:35:12.141293Z",
     "start_time": "2020-06-12T08:35:12.136734Z"
    }
   },
   "outputs": [],
   "source": [
    "def euc(v, w):\n",
    "    if np.max(v) == 0 and np.min(v) == 0 and np.max(w) == 0 and np.min(w) == 0:\n",
    "        return 10\n",
    "    return np.sqrt(np.sum(np.square(v - w)))"
   ]
  },
  {
   "cell_type": "code",
   "execution_count": 5,
   "metadata": {
    "ExecuteTime": {
     "end_time": "2020-06-12T08:35:12.156941Z",
     "start_time": "2020-06-12T08:35:12.143227Z"
    }
   },
   "outputs": [],
   "source": [
    "def item2item(user_item_set_dict, item_user_set_dict, rank_dict, time_dict,\n",
    "              txt_vec_dict, img_vec_dict, sim_topN):\n",
    "    item2item_sim_dict = {}\n",
    "    for user in tqdm(user_item_set_dict.keys()):\n",
    "        for item1 in user_item_set_dict[user]:\n",
    "            if item1 not in item2item_sim_dict.keys():\n",
    "                item2item_sim_dict[item1] = {}\n",
    "            for item2 in user_item_set_dict[user]:\n",
    "                if item1 == item2:\n",
    "                    continue\n",
    "                if item2 not in item2item_sim_dict[item1].keys():\n",
    "                    item2item_sim_dict[item1][item2] = 0\n",
    "                heat_factor = 1 / (\n",
    "                    np.log2(1 + len(user_item_set_dict[user])) + np.sqrt(\n",
    "                        abs(rank_dict[user][item1] - rank_dict[user][item2])))\n",
    "                time_factor = 1 / \\\n",
    "                    np.sqrt(\n",
    "                        1 + 20000 * abs(time_dict[user][item1] - time_dict[user][item2]))\n",
    "                txt_euc_factor = 1 / \\\n",
    "                    np.sqrt(1 + euc(txt_vec_dict[item1], txt_vec_dict[item2]))\n",
    "                img_euc_factor = 1 / \\\n",
    "                    np.sqrt(\n",
    "                        1 + euc(img_vec_dict[item1], img_vec_dict[item2]) / 10)\n",
    "                score = heat_factor * time_factor * txt_euc_factor * img_euc_factor\n",
    "                item2item_sim_dict[item1][item2] += score / np.sqrt(\n",
    "                    len(item_user_set_dict[item1]) *\n",
    "                    len(item_user_set_dict[item2]))\n",
    "\n",
    "    items = item2item_sim_dict.keys()\n",
    "    for item in tqdm(items):\n",
    "        if len(item2item_sim_dict[item]) == 0:\n",
    "            del item2item_sim_dict[item]\n",
    "        if len(item2item_sim_dict[item]) > sim_topN:\n",
    "            item2item_sim_dict[item] = dict(\n",
    "                sorted(item2item_sim_dict[item].items(),\n",
    "                       key=lambda x: x[1],\n",
    "                       reverse=True)[:sim_topN])\n",
    "\n",
    "    return item2item_sim_dict"
   ]
  },
  {
   "cell_type": "code",
   "execution_count": 6,
   "metadata": {
    "ExecuteTime": {
     "end_time": "2020-06-12T08:35:12.173941Z",
     "start_time": "2020-06-12T08:35:12.158899Z"
    },
    "scrolled": true
   },
   "outputs": [],
   "source": [
    "def recall(df_qtime, item2item_sim_dict, user_item_set_dict, rank_dict,\n",
    "           time_dict, txt_vec_dict, recall_topN):\n",
    "    data_list = []\n",
    "\n",
    "    qtime_dict = dict(zip(df_qtime['user_id'], df_qtime['query_time']))\n",
    "\n",
    "    for user_id, query_time, item_id, phase in tqdm(df_qtime.values):\n",
    "        rank = {}\n",
    "        for item in user_item_set_dict[user_id]:\n",
    "            for i in item2item_sim_dict[item].keys():\n",
    "                if i in user_item_set_dict[user_id]:\n",
    "                    continue\n",
    "                if i not in rank.keys():\n",
    "                    rank[i] = 0\n",
    "                rank_factor = 1 / np.sqrt(rank_dict[user_id][item])\n",
    "                time_factor = 1 - 1000 * \\\n",
    "                    (qtime_dict[user_id] - time_dict[user_id][item])\n",
    "                txt_euc_factor = 1 / \\\n",
    "                    (1 + euc(txt_vec_dict[i], txt_vec_dict[item]) / 100)\n",
    "                rank[i] += item2item_sim_dict[item][i] * \\\n",
    "                    rank_factor * time_factor * txt_euc_factor\n",
    "\n",
    "        sim_items = sorted(rank.items(), key=lambda d: d[1],\n",
    "                           reverse=True)[:recall_topN]\n",
    "        item_ids = [item[0] for item in sim_items]\n",
    "        item_sim_scores = [item[1] for item in sim_items]\n",
    "\n",
    "        df_temp = pd.DataFrame()\n",
    "        df_temp['item_id'] = item_ids\n",
    "        df_temp['sim_score'] = item_sim_scores\n",
    "        df_temp['user_id'] = user_id\n",
    "        df_temp['query_time'] = query_time\n",
    "        df_temp['phase'] = phase\n",
    "\n",
    "        if item_id == -1:\n",
    "            df_temp['label'] = np.nan\n",
    "        else:\n",
    "            df_temp['label'] = 0\n",
    "            df_temp.loc[df_temp['item_id'] == item_id, 'label'] = 1\n",
    "\n",
    "        df_temp.sort_values(['sim_score'], inplace=True, ascending=False)\n",
    "        df_temp = df_temp[[\n",
    "            'user_id', 'phase', 'query_time', 'item_id', 'sim_score', 'label'\n",
    "        ]]\n",
    "        df_temp['user_id'] = df_temp['user_id'].astype('int')\n",
    "        df_temp['item_id'] = df_temp['item_id'].astype('int')\n",
    "\n",
    "        data_list.append(df_temp)\n",
    "\n",
    "    df_data = pd.concat(data_list, sort=False)\n",
    "    return df_data"
   ]
  },
  {
   "cell_type": "code",
   "execution_count": 7,
   "metadata": {
    "ExecuteTime": {
     "end_time": "2020-06-12T08:35:18.475919Z",
     "start_time": "2020-06-12T08:35:12.176886Z"
    }
   },
   "outputs": [],
   "source": [
    "txt_vec_cols = ['txt_vec_{}'.format(i) for i in range(128)]\n",
    "img_vec_cols = ['img_vec_{}'.format(i) for i in range(128)]\n",
    "vec_df = pd.read_csv('../data/underexpose_train/underexpose_item_feat.csv',\n",
    "                     names=['item_id'] + txt_vec_cols + img_vec_cols)\n",
    "vec_df['txt_vec_0'] = vec_df['txt_vec_0'].apply(lambda x: x.strip()[1:])\n",
    "vec_df['txt_vec_127'] = vec_df['txt_vec_127'].apply(lambda x: x.strip()[:-1])\n",
    "vec_df['img_vec_0'] = vec_df['img_vec_0'].apply(lambda x: x.strip()[1:])\n",
    "vec_df['img_vec_127'] = vec_df['img_vec_127'].apply(lambda x: x.strip()[:-1])\n",
    "vec_df[txt_vec_cols + img_vec_cols] = vec_df[txt_vec_cols +\n",
    "                                             img_vec_cols].astype('float')"
   ]
  },
  {
   "cell_type": "code",
   "execution_count": 8,
   "metadata": {
    "ExecuteTime": {
     "end_time": "2020-06-12T08:35:18.493819Z",
     "start_time": "2020-06-12T08:35:18.478472Z"
    }
   },
   "outputs": [],
   "source": [
    "@multitasking.task\n",
    "def work(phase, force=False):\n",
    "    os.makedirs('../user_data/model/recall_v5', exist_ok=True)\n",
    "\n",
    "    if force or (not os.path.exists('../user_data/model/recall_v5/sim_{}.pkl'.format(phase))\n",
    "                 or not os.path.exists(\n",
    "                     '../user_data/model/recall_v5/recall_{}.pkl'.format(phase))):\n",
    "        # 获取当前阶段的click\n",
    "        df_click_phase = df_click[df_click['phase'] == phase]\n",
    "\n",
    "        df_click_phase = df_click_phase.merge(vec_df, on='item_id', how='left')\n",
    "        for f in tqdm(txt_vec_cols + img_vec_cols):\n",
    "            df_click_phase[f] = df_click_phase[f].fillna(0)\n",
    "\n",
    "        txt_vec_dict = dict(\n",
    "            zip(df_click_phase['item_id'],\n",
    "                df_click_phase[txt_vec_cols].values))\n",
    "        img_vec_dict = dict(\n",
    "            zip(df_click_phase['item_id'],\n",
    "                df_click_phase[img_vec_cols].values))\n",
    "\n",
    "        df_click_phase['rank'] = df_click_phase.groupby(\n",
    "            'user_id')['time'].rank(method='first', ascending=False)\n",
    "        rank_df = df_click_phase.groupby('user_id')['item_id', 'rank'].apply(\n",
    "            lambda x: dict(zip(x['item_id'], x['rank']))).reset_index()\n",
    "        rank_dict = dict(zip(rank_df['user_id'], rank_df[0]))\n",
    "\n",
    "        time_df = df_click_phase.groupby('user_id')['item_id', 'time'].apply(\n",
    "            lambda x: dict(zip(x['item_id'], x['time']))).reset_index()\n",
    "        time_dict = dict(zip(time_df['user_id'], time_df[0]))\n",
    "\n",
    "        item_user_set_df = df_click_phase.groupby(\n",
    "            'item_id', as_index=False)['user_id'].agg({'item_user_set': set})\n",
    "        item_user_set_dict = dict(\n",
    "            zip(item_user_set_df['item_id'],\n",
    "                item_user_set_df['item_user_set']))\n",
    "\n",
    "        user_item_set_df = df_click_phase.groupby(\n",
    "            'user_id', as_index=False)['item_id'].agg({'user_item_set': set})\n",
    "        user_item_set_dict = dict(\n",
    "            zip(user_item_set_df['user_id'],\n",
    "                user_item_set_df['user_item_set']))\n",
    "\n",
    "        del rank_df, time_df, item_user_set_df, user_item_set_df\n",
    "        gc.collect()\n",
    "\n",
    "        item2item_sim_dict = item2item(user_item_set_dict, item_user_set_dict,\n",
    "                                       rank_dict, time_dict, txt_vec_dict,\n",
    "                                       img_vec_dict, sim_topN)\n",
    "\n",
    "        f = open('../user_data/model/recall_v5/sim_{}.pkl'.format(phase), 'wb')\n",
    "        pickle.dump(item2item_sim_dict, f)\n",
    "        f.close()\n",
    "\n",
    "        # 获取当前阶段的qtime, 召回\n",
    "        df_qtime_phase = df_qtime[df_qtime['phase'] == phase]\n",
    "        df_data = recall(df_qtime_phase, item2item_sim_dict,\n",
    "                         user_item_set_dict, rank_dict, time_dict,\n",
    "                         txt_vec_dict, recall_topN)\n",
    "        df_data.to_pickle('../user_data/model/recall_v5/recall_{}.pkl'.format(phase))"
   ]
  },
  {
   "cell_type": "code",
   "execution_count": 9,
   "metadata": {
    "ExecuteTime": {
     "end_time": "2020-06-12T09:20:43.511973Z",
     "start_time": "2020-06-12T08:35:18.495944Z"
    },
    "scrolled": false
   },
   "outputs": [
    {
     "name": "stderr",
     "output_type": "stream",
     "text": [
      "100%|██████████| 256/256 [00:00<00:00, 671.53it/s]\n",
      "100%|██████████| 18505/18505 [08:58<00:00, 34.35it/s]\n",
      "100%|██████████| 40768/40768 [00:00<00:00, 106961.58it/s]\n",
      "100%|██████████| 18505/18505 [35:09<00:00,  8.77it/s] \n"
     ]
    },
    {
     "name": "stdout",
     "output_type": "stream",
     "text": [
      "合并任务\n"
     ]
    },
    {
     "name": "stderr",
     "output_type": "stream",
     "text": [
      "100%|██████████| 18505/18505 [00:18<00:00, 982.11it/s]"
     ]
    },
    {
     "name": "stdout",
     "output_type": "stream",
     "text": [
      "phase 0 (0.05837995479642042, 0.13341645885286782, 0.052475814576360795, 0.10920034393809114)\n"
     ]
    },
    {
     "name": "stderr",
     "output_type": "stream",
     "text": [
      "\n"
     ]
    }
   ],
   "source": [
    "sim_topN = 500\n",
    "recall_topN = 100\n",
    "item_sim_phase = {}\n",
    "df_recall = pd.DataFrame()\n",
    "val_score = np.array([0.0, 0.0, 0.0, 0.0])\n",
    "force = False\n",
    "\n",
    "for phase in phases:\n",
    "    work(phase, force)\n",
    "\n",
    "multitasking.wait_for_tasks()\n",
    "print('合并任务')\n",
    "\n",
    "for phase in phases:\n",
    "    f = open('../user_data/model/recall_v5/sim_{}.pkl'.format(phase), 'rb')\n",
    "    item_sim = pickle.load(f)\n",
    "    f.close()\n",
    "\n",
    "    df_data = pd.read_pickle('../user_data/model/recall_v5/recall_{}.pkl'.format(phase))\n",
    "\n",
    "    item_sim_phase[phase] = item_sim\n",
    "    df_recall = df_recall.append(df_data)\n",
    "\n",
    "    score = evaluate_scores(df_data, phase)\n",
    "    val_score += score\n",
    "\n",
    "    print('phase', phase, score)"
   ]
  },
  {
   "cell_type": "code",
   "execution_count": 10,
   "metadata": {
    "ExecuteTime": {
     "end_time": "2020-06-12T09:21:06.679068Z",
     "start_time": "2020-06-12T09:20:43.514044Z"
    }
   },
   "outputs": [],
   "source": [
    "# 保存相似度字典给后续使用\n",
    "f = open('../user_data/model/tiancai_sim.pkl', 'wb')\n",
    "pickle.dump(item_sim_phase, f)\n",
    "f.close()"
   ]
  },
  {
   "cell_type": "code",
   "execution_count": null,
   "metadata": {
    "ExecuteTime": {
     "start_time": "2020-06-12T08:51:56.034Z"
    }
   },
   "outputs": [],
   "source": [
    "val_score"
   ]
  },
  {
   "cell_type": "code",
   "execution_count": 12,
   "metadata": {
    "ExecuteTime": {
     "end_time": "2020-06-12T09:21:07.196039Z",
     "start_time": "2020-06-12T09:21:06.687398Z"
    }
   },
   "outputs": [
    {
     "data": {
      "text/html": [
       "<div>\n",
       "<style scoped>\n",
       "    .dataframe tbody tr th:only-of-type {\n",
       "        vertical-align: middle;\n",
       "    }\n",
       "\n",
       "    .dataframe tbody tr th {\n",
       "        vertical-align: top;\n",
       "    }\n",
       "\n",
       "    .dataframe thead th {\n",
       "        text-align: right;\n",
       "    }\n",
       "</style>\n",
       "<table border=\"1\" class=\"dataframe\">\n",
       "  <thead>\n",
       "    <tr style=\"text-align: right;\">\n",
       "      <th></th>\n",
       "      <th>user_id</th>\n",
       "      <th>phase</th>\n",
       "      <th>query_time</th>\n",
       "      <th>item_id</th>\n",
       "      <th>sim_score</th>\n",
       "      <th>label</th>\n",
       "    </tr>\n",
       "  </thead>\n",
       "  <tbody>\n",
       "    <tr>\n",
       "      <th>0</th>\n",
       "      <td>1</td>\n",
       "      <td>0.0</td>\n",
       "      <td>0.9839419315</td>\n",
       "      <td>103421</td>\n",
       "      <td>0.0050941158</td>\n",
       "      <td>0.0</td>\n",
       "    </tr>\n",
       "    <tr>\n",
       "      <th>1</th>\n",
       "      <td>1</td>\n",
       "      <td>0.0</td>\n",
       "      <td>0.9839419315</td>\n",
       "      <td>91290</td>\n",
       "      <td>0.0045766652</td>\n",
       "      <td>0.0</td>\n",
       "    </tr>\n",
       "    <tr>\n",
       "      <th>2</th>\n",
       "      <td>1</td>\n",
       "      <td>0.0</td>\n",
       "      <td>0.9839419315</td>\n",
       "      <td>35217</td>\n",
       "      <td>0.0045467833</td>\n",
       "      <td>0.0</td>\n",
       "    </tr>\n",
       "    <tr>\n",
       "      <th>3</th>\n",
       "      <td>1</td>\n",
       "      <td>0.0</td>\n",
       "      <td>0.9839419315</td>\n",
       "      <td>95676</td>\n",
       "      <td>0.0040608463</td>\n",
       "      <td>0.0</td>\n",
       "    </tr>\n",
       "    <tr>\n",
       "      <th>4</th>\n",
       "      <td>1</td>\n",
       "      <td>0.0</td>\n",
       "      <td>0.9839419315</td>\n",
       "      <td>109853</td>\n",
       "      <td>0.0040455135</td>\n",
       "      <td>0.0</td>\n",
       "    </tr>\n",
       "  </tbody>\n",
       "</table>\n",
       "</div>"
      ],
      "text/plain": [
       "   user_id  phase    query_time  item_id     sim_score  label\n",
       "0        1    0.0  0.9839419315   103421  0.0050941158    0.0\n",
       "1        1    0.0  0.9839419315    91290  0.0045766652    0.0\n",
       "2        1    0.0  0.9839419315    35217  0.0045467833    0.0\n",
       "3        1    0.0  0.9839419315    95676  0.0040608463    0.0\n",
       "4        1    0.0  0.9839419315   109853  0.0040455135    0.0"
      ]
     },
     "execution_count": 12,
     "metadata": {},
     "output_type": "execute_result"
    }
   ],
   "source": [
    "df_recall.sort_values(['user_id', 'phase', 'query_time'], inplace=True)\n",
    "df_recall.to_pickle('../user_data/data/recall_v5.pkl')\n",
    "df_recall.head()"
   ]
  },
  {
   "cell_type": "code",
   "execution_count": null,
   "metadata": {},
   "outputs": [],
   "source": []
  }
 ],
 "metadata": {
  "kernelspec": {
   "display_name": "Python 3",
   "language": "python",
   "name": "python3"
  },
  "language_info": {
   "codemirror_mode": {
    "name": "ipython",
    "version": 3
   },
   "file_extension": ".py",
   "mimetype": "text/x-python",
   "name": "python",
   "nbconvert_exporter": "python",
   "pygments_lexer": "ipython3",
   "version": "3.6.5"
  }
 },
 "nbformat": 4,
 "nbformat_minor": 2
}
