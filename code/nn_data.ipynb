{
 "cells": [
  {
   "cell_type": "code",
   "execution_count": 1,
   "metadata": {
    "ExecuteTime": {
     "end_time": "2020-06-12T09:58:01.677573Z",
     "start_time": "2020-06-12T09:58:01.280613Z"
    }
   },
   "outputs": [],
   "source": [
    "import pandas as pd"
   ]
  },
  {
   "cell_type": "code",
   "execution_count": 2,
   "metadata": {
    "ExecuteTime": {
     "end_time": "2020-06-12T09:58:02.170343Z",
     "start_time": "2020-06-12T09:58:01.679410Z"
    }
   },
   "outputs": [],
   "source": [
    "df_data = pd.read_pickle('../user_data/data/rank_feature.pkl')\n",
    "df_history = pd.read_pickle('../user_data/data/click.pkl')"
   ]
  },
  {
   "cell_type": "code",
   "execution_count": 3,
   "metadata": {
    "ExecuteTime": {
     "end_time": "2020-06-12T09:58:11.749361Z",
     "start_time": "2020-06-12T09:58:02.172528Z"
    }
   },
   "outputs": [],
   "source": [
    "df_data['user_phase'] = df_data['user_id'].astype(\n",
    "    'str') + '_' + df_data['phase'].astype('str')\n",
    "df_history['user_phase'] = df_history['user_id'].astype(\n",
    "    'str') + '_' + df_history['phase'].astype('str')"
   ]
  },
  {
   "cell_type": "code",
   "execution_count": 6,
   "metadata": {
    "ExecuteTime": {
     "end_time": "2020-06-12T09:58:11.823170Z",
     "start_time": "2020-06-12T09:58:11.767791Z"
    }
   },
   "outputs": [
    {
     "data": {
      "text/html": [
       "<div>\n",
       "<style scoped>\n",
       "    .dataframe tbody tr th:only-of-type {\n",
       "        vertical-align: middle;\n",
       "    }\n",
       "\n",
       "    .dataframe tbody tr th {\n",
       "        vertical-align: top;\n",
       "    }\n",
       "\n",
       "    .dataframe thead th {\n",
       "        text-align: right;\n",
       "    }\n",
       "</style>\n",
       "<table border=\"1\" class=\"dataframe\">\n",
       "  <thead>\n",
       "    <tr style=\"text-align: right;\">\n",
       "      <th></th>\n",
       "      <th>user_id</th>\n",
       "      <th>phase</th>\n",
       "      <th>query_time</th>\n",
       "      <th>item_id</th>\n",
       "      <th>label</th>\n",
       "      <th>txt_vec10_pca0</th>\n",
       "      <th>txt_vec10_pca1</th>\n",
       "      <th>txt_vec10_pca2</th>\n",
       "      <th>txt_vec10_pca3</th>\n",
       "      <th>txt_vec10_pca4</th>\n",
       "      <th>...</th>\n",
       "      <th>user_click_item_w2w_sim_sum_2</th>\n",
       "      <th>user_item_txt_sim</th>\n",
       "      <th>user_click_item_txt_sim_sum</th>\n",
       "      <th>user_click_item_txt_sim_max</th>\n",
       "      <th>user_last_click_item_txt_sim</th>\n",
       "      <th>user_click_item_txt_sim_rolling2_sum</th>\n",
       "      <th>user_click_item_txt_sim_rolling2_mean</th>\n",
       "      <th>user_click_item_txt_sim_rolling3_mean</th>\n",
       "      <th>user_item_img_sim</th>\n",
       "      <th>user_phase</th>\n",
       "    </tr>\n",
       "  </thead>\n",
       "  <tbody>\n",
       "    <tr>\n",
       "      <th>0</th>\n",
       "      <td>7</td>\n",
       "      <td>0</td>\n",
       "      <td>0.98394</td>\n",
       "      <td>591</td>\n",
       "      <td>0.0</td>\n",
       "      <td>NaN</td>\n",
       "      <td>NaN</td>\n",
       "      <td>NaN</td>\n",
       "      <td>NaN</td>\n",
       "      <td>NaN</td>\n",
       "      <td>...</td>\n",
       "      <td>1.739258</td>\n",
       "      <td>0.000000</td>\n",
       "      <td>0.000000</td>\n",
       "      <td>0.000000</td>\n",
       "      <td>0.0</td>\n",
       "      <td>0.0</td>\n",
       "      <td>0.0</td>\n",
       "      <td>0.000000</td>\n",
       "      <td>0.000000</td>\n",
       "      <td>7_0</td>\n",
       "    </tr>\n",
       "    <tr>\n",
       "      <th>1</th>\n",
       "      <td>7</td>\n",
       "      <td>0</td>\n",
       "      <td>0.98394</td>\n",
       "      <td>20201</td>\n",
       "      <td>0.0</td>\n",
       "      <td>7.316406</td>\n",
       "      <td>2.445312</td>\n",
       "      <td>-2.457031</td>\n",
       "      <td>-0.265137</td>\n",
       "      <td>1.541992</td>\n",
       "      <td>...</td>\n",
       "      <td>1.750000</td>\n",
       "      <td>0.470703</td>\n",
       "      <td>0.319336</td>\n",
       "      <td>0.465332</td>\n",
       "      <td>0.0</td>\n",
       "      <td>0.0</td>\n",
       "      <td>0.0</td>\n",
       "      <td>0.465332</td>\n",
       "      <td>-0.074768</td>\n",
       "      <td>7_0</td>\n",
       "    </tr>\n",
       "    <tr>\n",
       "      <th>2</th>\n",
       "      <td>7</td>\n",
       "      <td>0</td>\n",
       "      <td>0.98394</td>\n",
       "      <td>7709</td>\n",
       "      <td>0.0</td>\n",
       "      <td>NaN</td>\n",
       "      <td>NaN</td>\n",
       "      <td>NaN</td>\n",
       "      <td>NaN</td>\n",
       "      <td>NaN</td>\n",
       "      <td>...</td>\n",
       "      <td>1.706055</td>\n",
       "      <td>0.000000</td>\n",
       "      <td>0.000000</td>\n",
       "      <td>0.000000</td>\n",
       "      <td>0.0</td>\n",
       "      <td>0.0</td>\n",
       "      <td>0.0</td>\n",
       "      <td>0.000000</td>\n",
       "      <td>0.000000</td>\n",
       "      <td>7_0</td>\n",
       "    </tr>\n",
       "    <tr>\n",
       "      <th>3</th>\n",
       "      <td>7</td>\n",
       "      <td>0</td>\n",
       "      <td>0.98394</td>\n",
       "      <td>4340</td>\n",
       "      <td>0.0</td>\n",
       "      <td>NaN</td>\n",
       "      <td>NaN</td>\n",
       "      <td>NaN</td>\n",
       "      <td>NaN</td>\n",
       "      <td>NaN</td>\n",
       "      <td>...</td>\n",
       "      <td>1.163086</td>\n",
       "      <td>0.000000</td>\n",
       "      <td>0.000000</td>\n",
       "      <td>0.000000</td>\n",
       "      <td>0.0</td>\n",
       "      <td>0.0</td>\n",
       "      <td>0.0</td>\n",
       "      <td>0.000000</td>\n",
       "      <td>0.000000</td>\n",
       "      <td>7_0</td>\n",
       "    </tr>\n",
       "    <tr>\n",
       "      <th>4</th>\n",
       "      <td>7</td>\n",
       "      <td>0</td>\n",
       "      <td>0.98394</td>\n",
       "      <td>9338</td>\n",
       "      <td>0.0</td>\n",
       "      <td>-0.939453</td>\n",
       "      <td>4.632812</td>\n",
       "      <td>-4.437500</td>\n",
       "      <td>-0.889160</td>\n",
       "      <td>-1.173828</td>\n",
       "      <td>...</td>\n",
       "      <td>1.778320</td>\n",
       "      <td>0.570312</td>\n",
       "      <td>0.412598</td>\n",
       "      <td>0.546387</td>\n",
       "      <td>0.0</td>\n",
       "      <td>0.0</td>\n",
       "      <td>0.0</td>\n",
       "      <td>0.459717</td>\n",
       "      <td>-0.096680</td>\n",
       "      <td>7_0</td>\n",
       "    </tr>\n",
       "  </tbody>\n",
       "</table>\n",
       "<p>5 rows × 91 columns</p>\n",
       "</div>"
      ],
      "text/plain": [
       "   user_id  phase  query_time  item_id  label  txt_vec10_pca0  txt_vec10_pca1  \\\n",
       "0        7      0     0.98394      591    0.0             NaN             NaN   \n",
       "1        7      0     0.98394    20201    0.0        7.316406        2.445312   \n",
       "2        7      0     0.98394     7709    0.0             NaN             NaN   \n",
       "3        7      0     0.98394     4340    0.0             NaN             NaN   \n",
       "4        7      0     0.98394     9338    0.0       -0.939453        4.632812   \n",
       "\n",
       "   txt_vec10_pca2  txt_vec10_pca3  txt_vec10_pca4  ...  \\\n",
       "0             NaN             NaN             NaN  ...   \n",
       "1       -2.457031       -0.265137        1.541992  ...   \n",
       "2             NaN             NaN             NaN  ...   \n",
       "3             NaN             NaN             NaN  ...   \n",
       "4       -4.437500       -0.889160       -1.173828  ...   \n",
       "\n",
       "   user_click_item_w2w_sim_sum_2  user_item_txt_sim  \\\n",
       "0                       1.739258           0.000000   \n",
       "1                       1.750000           0.470703   \n",
       "2                       1.706055           0.000000   \n",
       "3                       1.163086           0.000000   \n",
       "4                       1.778320           0.570312   \n",
       "\n",
       "   user_click_item_txt_sim_sum  user_click_item_txt_sim_max  \\\n",
       "0                     0.000000                     0.000000   \n",
       "1                     0.319336                     0.465332   \n",
       "2                     0.000000                     0.000000   \n",
       "3                     0.000000                     0.000000   \n",
       "4                     0.412598                     0.546387   \n",
       "\n",
       "   user_last_click_item_txt_sim  user_click_item_txt_sim_rolling2_sum  \\\n",
       "0                           0.0                                   0.0   \n",
       "1                           0.0                                   0.0   \n",
       "2                           0.0                                   0.0   \n",
       "3                           0.0                                   0.0   \n",
       "4                           0.0                                   0.0   \n",
       "\n",
       "   user_click_item_txt_sim_rolling2_mean  \\\n",
       "0                                    0.0   \n",
       "1                                    0.0   \n",
       "2                                    0.0   \n",
       "3                                    0.0   \n",
       "4                                    0.0   \n",
       "\n",
       "   user_click_item_txt_sim_rolling3_mean  user_item_img_sim  user_phase  \n",
       "0                               0.000000           0.000000         7_0  \n",
       "1                               0.465332          -0.074768         7_0  \n",
       "2                               0.000000           0.000000         7_0  \n",
       "3                               0.000000           0.000000         7_0  \n",
       "4                               0.459717          -0.096680         7_0  \n",
       "\n",
       "[5 rows x 91 columns]"
      ]
     },
     "execution_count": 6,
     "metadata": {},
     "output_type": "execute_result"
    }
   ],
   "source": [
    "df_data.head()"
   ]
  },
  {
   "cell_type": "code",
   "execution_count": 7,
   "metadata": {
    "ExecuteTime": {
     "end_time": "2020-06-12T09:58:12.245587Z",
     "start_time": "2020-06-12T09:58:11.825871Z"
    }
   },
   "outputs": [
    {
     "name": "stdout",
     "output_type": "stream",
     "text": [
      "(2735694, 5)\n",
      "(81938, 5)\n"
     ]
    }
   ],
   "source": [
    "print(df_history.shape)\n",
    "df_history = df_history[df_history['user_phase'].isin(\n",
    "    df_data['user_phase'].values)]\n",
    "print(df_history.shape)"
   ]
  },
  {
   "cell_type": "code",
   "execution_count": 8,
   "metadata": {
    "ExecuteTime": {
     "end_time": "2020-06-12T09:58:12.257229Z",
     "start_time": "2020-06-12T09:58:12.247416Z"
    }
   },
   "outputs": [
    {
     "data": {
      "text/html": [
       "<div>\n",
       "<style scoped>\n",
       "    .dataframe tbody tr th:only-of-type {\n",
       "        vertical-align: middle;\n",
       "    }\n",
       "\n",
       "    .dataframe tbody tr th {\n",
       "        vertical-align: top;\n",
       "    }\n",
       "\n",
       "    .dataframe thead th {\n",
       "        text-align: right;\n",
       "    }\n",
       "</style>\n",
       "<table border=\"1\" class=\"dataframe\">\n",
       "  <thead>\n",
       "    <tr style=\"text-align: right;\">\n",
       "      <th></th>\n",
       "      <th>user_id</th>\n",
       "      <th>item_id</th>\n",
       "      <th>time</th>\n",
       "      <th>phase</th>\n",
       "      <th>user_phase</th>\n",
       "    </tr>\n",
       "  </thead>\n",
       "  <tbody>\n",
       "    <tr>\n",
       "      <th>607</th>\n",
       "      <td>7</td>\n",
       "      <td>19110</td>\n",
       "      <td>0.983779</td>\n",
       "      <td>0</td>\n",
       "      <td>7_0</td>\n",
       "    </tr>\n",
       "    <tr>\n",
       "      <th>608</th>\n",
       "      <td>7</td>\n",
       "      <td>24258</td>\n",
       "      <td>0.983780</td>\n",
       "      <td>0</td>\n",
       "      <td>7_0</td>\n",
       "    </tr>\n",
       "    <tr>\n",
       "      <th>609</th>\n",
       "      <td>7</td>\n",
       "      <td>39291</td>\n",
       "      <td>0.983846</td>\n",
       "      <td>0</td>\n",
       "      <td>7_0</td>\n",
       "    </tr>\n",
       "    <tr>\n",
       "      <th>610</th>\n",
       "      <td>7</td>\n",
       "      <td>6731</td>\n",
       "      <td>0.983847</td>\n",
       "      <td>0</td>\n",
       "      <td>7_0</td>\n",
       "    </tr>\n",
       "    <tr>\n",
       "      <th>1040</th>\n",
       "      <td>11</td>\n",
       "      <td>88058</td>\n",
       "      <td>0.983740</td>\n",
       "      <td>0</td>\n",
       "      <td>11_0</td>\n",
       "    </tr>\n",
       "  </tbody>\n",
       "</table>\n",
       "</div>"
      ],
      "text/plain": [
       "      user_id  item_id      time  phase user_phase\n",
       "607         7    19110  0.983779      0        7_0\n",
       "608         7    24258  0.983780      0        7_0\n",
       "609         7    39291  0.983846      0        7_0\n",
       "610         7     6731  0.983847      0        7_0\n",
       "1040       11    88058  0.983740      0       11_0"
      ]
     },
     "execution_count": 8,
     "metadata": {},
     "output_type": "execute_result"
    }
   ],
   "source": [
    "df_history.head()"
   ]
  },
  {
   "cell_type": "code",
   "execution_count": 9,
   "metadata": {
    "ExecuteTime": {
     "end_time": "2020-06-12T09:58:12.303344Z",
     "start_time": "2020-06-12T09:58:12.258794Z"
    }
   },
   "outputs": [],
   "source": [
    "df_history.sort_values(['user_id', 'time'], inplace=True)"
   ]
  },
  {
   "cell_type": "code",
   "execution_count": 13,
   "metadata": {
    "ExecuteTime": {
     "end_time": "2020-06-12T10:01:52.679625Z",
     "start_time": "2020-06-12T10:01:51.893479Z"
    },
    "scrolled": true
   },
   "outputs": [],
   "source": [
    "df_temp = df_history.groupby(['user_phase'])['item_id'].agg(history=list).reset_index()"
   ]
  },
  {
   "cell_type": "code",
   "execution_count": 14,
   "metadata": {
    "ExecuteTime": {
     "end_time": "2020-06-12T10:01:53.774635Z",
     "start_time": "2020-06-12T10:01:53.754869Z"
    }
   },
   "outputs": [
    {
     "data": {
      "text/html": [
       "<div>\n",
       "<style scoped>\n",
       "    .dataframe tbody tr th:only-of-type {\n",
       "        vertical-align: middle;\n",
       "    }\n",
       "\n",
       "    .dataframe tbody tr th {\n",
       "        vertical-align: top;\n",
       "    }\n",
       "\n",
       "    .dataframe thead th {\n",
       "        text-align: right;\n",
       "    }\n",
       "</style>\n",
       "<table border=\"1\" class=\"dataframe\">\n",
       "  <thead>\n",
       "    <tr style=\"text-align: right;\">\n",
       "      <th></th>\n",
       "      <th>user_phase</th>\n",
       "      <th>history</th>\n",
       "    </tr>\n",
       "  </thead>\n",
       "  <tbody>\n",
       "    <tr>\n",
       "      <th>0</th>\n",
       "      <td>10005_0</td>\n",
       "      <td>[93726, 8048, 66055, 68189, 76335, 46620, 3978...</td>\n",
       "    </tr>\n",
       "    <tr>\n",
       "      <th>1</th>\n",
       "      <td>10017_0</td>\n",
       "      <td>[101041, 104831, 111905, 61269, 99145, 64219, ...</td>\n",
       "    </tr>\n",
       "    <tr>\n",
       "      <th>2</th>\n",
       "      <td>1001_0</td>\n",
       "      <td>[76967, 2827, 11599, 16026]</td>\n",
       "    </tr>\n",
       "    <tr>\n",
       "      <th>3</th>\n",
       "      <td>1002_0</td>\n",
       "      <td>[40375, 10456, 98374, 8906, 49235, 67912, 2880...</td>\n",
       "    </tr>\n",
       "    <tr>\n",
       "      <th>4</th>\n",
       "      <td>10032_0</td>\n",
       "      <td>[109286, 102996, 105116, 55841, 111687, 75986]</td>\n",
       "    </tr>\n",
       "  </tbody>\n",
       "</table>\n",
       "</div>"
      ],
      "text/plain": [
       "  user_phase                                            history\n",
       "0    10005_0  [93726, 8048, 66055, 68189, 76335, 46620, 3978...\n",
       "1    10017_0  [101041, 104831, 111905, 61269, 99145, 64219, ...\n",
       "2     1001_0                        [76967, 2827, 11599, 16026]\n",
       "3     1002_0  [40375, 10456, 98374, 8906, 49235, 67912, 2880...\n",
       "4    10032_0     [109286, 102996, 105116, 55841, 111687, 75986]"
      ]
     },
     "execution_count": 14,
     "metadata": {},
     "output_type": "execute_result"
    }
   ],
   "source": [
    "df_temp.head()"
   ]
  },
  {
   "cell_type": "code",
   "execution_count": 15,
   "metadata": {
    "ExecuteTime": {
     "end_time": "2020-06-12T10:01:55.828127Z",
     "start_time": "2020-06-12T10:01:54.011441Z"
    }
   },
   "outputs": [],
   "source": [
    "df_data = df_data.merge(df_temp, how='left')"
   ]
  },
  {
   "cell_type": "code",
   "execution_count": 17,
   "metadata": {
    "ExecuteTime": {
     "end_time": "2020-06-12T10:01:55.889939Z",
     "start_time": "2020-06-12T10:01:55.865250Z"
    }
   },
   "outputs": [],
   "source": [
    "del df_data['user_phase']"
   ]
  },
  {
   "cell_type": "code",
   "execution_count": 18,
   "metadata": {
    "ExecuteTime": {
     "end_time": "2020-06-12T10:01:56.827921Z",
     "start_time": "2020-06-12T10:01:55.891611Z"
    }
   },
   "outputs": [],
   "source": [
    "df_data.to_pickle('../user_data/data/nn_input.pkl')"
   ]
  },
  {
   "cell_type": "code",
   "execution_count": 19,
   "metadata": {
    "ExecuteTime": {
     "end_time": "2020-06-12T10:01:56.834224Z",
     "start_time": "2020-06-12T10:01:56.830126Z"
    }
   },
   "outputs": [
    {
     "data": {
      "text/plain": [
       "(2496846, 91)"
      ]
     },
     "execution_count": 19,
     "metadata": {},
     "output_type": "execute_result"
    }
   ],
   "source": [
    "df_data.shape"
   ]
  },
  {
   "cell_type": "code",
   "execution_count": 20,
   "metadata": {
    "ExecuteTime": {
     "end_time": "2020-06-12T10:01:59.047678Z",
     "start_time": "2020-06-12T10:01:59.002214Z"
    }
   },
   "outputs": [
    {
     "data": {
      "text/html": [
       "<div>\n",
       "<style scoped>\n",
       "    .dataframe tbody tr th:only-of-type {\n",
       "        vertical-align: middle;\n",
       "    }\n",
       "\n",
       "    .dataframe tbody tr th {\n",
       "        vertical-align: top;\n",
       "    }\n",
       "\n",
       "    .dataframe thead th {\n",
       "        text-align: right;\n",
       "    }\n",
       "</style>\n",
       "<table border=\"1\" class=\"dataframe\">\n",
       "  <thead>\n",
       "    <tr style=\"text-align: right;\">\n",
       "      <th></th>\n",
       "      <th>user_id</th>\n",
       "      <th>phase</th>\n",
       "      <th>query_time</th>\n",
       "      <th>item_id</th>\n",
       "      <th>label</th>\n",
       "      <th>txt_vec10_pca0</th>\n",
       "      <th>txt_vec10_pca1</th>\n",
       "      <th>txt_vec10_pca2</th>\n",
       "      <th>txt_vec10_pca3</th>\n",
       "      <th>txt_vec10_pca4</th>\n",
       "      <th>...</th>\n",
       "      <th>user_click_item_w2w_sim_sum_2</th>\n",
       "      <th>user_item_txt_sim</th>\n",
       "      <th>user_click_item_txt_sim_sum</th>\n",
       "      <th>user_click_item_txt_sim_max</th>\n",
       "      <th>user_last_click_item_txt_sim</th>\n",
       "      <th>user_click_item_txt_sim_rolling2_sum</th>\n",
       "      <th>user_click_item_txt_sim_rolling2_mean</th>\n",
       "      <th>user_click_item_txt_sim_rolling3_mean</th>\n",
       "      <th>user_item_img_sim</th>\n",
       "      <th>history</th>\n",
       "    </tr>\n",
       "  </thead>\n",
       "  <tbody>\n",
       "    <tr>\n",
       "      <th>0</th>\n",
       "      <td>7</td>\n",
       "      <td>0</td>\n",
       "      <td>0.98394</td>\n",
       "      <td>591</td>\n",
       "      <td>0.0</td>\n",
       "      <td>NaN</td>\n",
       "      <td>NaN</td>\n",
       "      <td>NaN</td>\n",
       "      <td>NaN</td>\n",
       "      <td>NaN</td>\n",
       "      <td>...</td>\n",
       "      <td>1.739258</td>\n",
       "      <td>0.000000</td>\n",
       "      <td>0.000000</td>\n",
       "      <td>0.000000</td>\n",
       "      <td>0.0</td>\n",
       "      <td>0.0</td>\n",
       "      <td>0.0</td>\n",
       "      <td>0.000000</td>\n",
       "      <td>0.000000</td>\n",
       "      <td>[19110, 24258, 39291, 6731]</td>\n",
       "    </tr>\n",
       "    <tr>\n",
       "      <th>1</th>\n",
       "      <td>7</td>\n",
       "      <td>0</td>\n",
       "      <td>0.98394</td>\n",
       "      <td>20201</td>\n",
       "      <td>0.0</td>\n",
       "      <td>7.316406</td>\n",
       "      <td>2.445312</td>\n",
       "      <td>-2.457031</td>\n",
       "      <td>-0.265137</td>\n",
       "      <td>1.541992</td>\n",
       "      <td>...</td>\n",
       "      <td>1.750000</td>\n",
       "      <td>0.470703</td>\n",
       "      <td>0.319336</td>\n",
       "      <td>0.465332</td>\n",
       "      <td>0.0</td>\n",
       "      <td>0.0</td>\n",
       "      <td>0.0</td>\n",
       "      <td>0.465332</td>\n",
       "      <td>-0.074768</td>\n",
       "      <td>[19110, 24258, 39291, 6731]</td>\n",
       "    </tr>\n",
       "    <tr>\n",
       "      <th>2</th>\n",
       "      <td>7</td>\n",
       "      <td>0</td>\n",
       "      <td>0.98394</td>\n",
       "      <td>7709</td>\n",
       "      <td>0.0</td>\n",
       "      <td>NaN</td>\n",
       "      <td>NaN</td>\n",
       "      <td>NaN</td>\n",
       "      <td>NaN</td>\n",
       "      <td>NaN</td>\n",
       "      <td>...</td>\n",
       "      <td>1.706055</td>\n",
       "      <td>0.000000</td>\n",
       "      <td>0.000000</td>\n",
       "      <td>0.000000</td>\n",
       "      <td>0.0</td>\n",
       "      <td>0.0</td>\n",
       "      <td>0.0</td>\n",
       "      <td>0.000000</td>\n",
       "      <td>0.000000</td>\n",
       "      <td>[19110, 24258, 39291, 6731]</td>\n",
       "    </tr>\n",
       "    <tr>\n",
       "      <th>3</th>\n",
       "      <td>7</td>\n",
       "      <td>0</td>\n",
       "      <td>0.98394</td>\n",
       "      <td>4340</td>\n",
       "      <td>0.0</td>\n",
       "      <td>NaN</td>\n",
       "      <td>NaN</td>\n",
       "      <td>NaN</td>\n",
       "      <td>NaN</td>\n",
       "      <td>NaN</td>\n",
       "      <td>...</td>\n",
       "      <td>1.163086</td>\n",
       "      <td>0.000000</td>\n",
       "      <td>0.000000</td>\n",
       "      <td>0.000000</td>\n",
       "      <td>0.0</td>\n",
       "      <td>0.0</td>\n",
       "      <td>0.0</td>\n",
       "      <td>0.000000</td>\n",
       "      <td>0.000000</td>\n",
       "      <td>[19110, 24258, 39291, 6731]</td>\n",
       "    </tr>\n",
       "    <tr>\n",
       "      <th>4</th>\n",
       "      <td>7</td>\n",
       "      <td>0</td>\n",
       "      <td>0.98394</td>\n",
       "      <td>9338</td>\n",
       "      <td>0.0</td>\n",
       "      <td>-0.939453</td>\n",
       "      <td>4.632812</td>\n",
       "      <td>-4.437500</td>\n",
       "      <td>-0.889160</td>\n",
       "      <td>-1.173828</td>\n",
       "      <td>...</td>\n",
       "      <td>1.778320</td>\n",
       "      <td>0.570312</td>\n",
       "      <td>0.412598</td>\n",
       "      <td>0.546387</td>\n",
       "      <td>0.0</td>\n",
       "      <td>0.0</td>\n",
       "      <td>0.0</td>\n",
       "      <td>0.459717</td>\n",
       "      <td>-0.096680</td>\n",
       "      <td>[19110, 24258, 39291, 6731]</td>\n",
       "    </tr>\n",
       "  </tbody>\n",
       "</table>\n",
       "<p>5 rows × 91 columns</p>\n",
       "</div>"
      ],
      "text/plain": [
       "   user_id  phase  query_time  item_id  label  txt_vec10_pca0  txt_vec10_pca1  \\\n",
       "0        7      0     0.98394      591    0.0             NaN             NaN   \n",
       "1        7      0     0.98394    20201    0.0        7.316406        2.445312   \n",
       "2        7      0     0.98394     7709    0.0             NaN             NaN   \n",
       "3        7      0     0.98394     4340    0.0             NaN             NaN   \n",
       "4        7      0     0.98394     9338    0.0       -0.939453        4.632812   \n",
       "\n",
       "   txt_vec10_pca2  txt_vec10_pca3  txt_vec10_pca4  ...  \\\n",
       "0             NaN             NaN             NaN  ...   \n",
       "1       -2.457031       -0.265137        1.541992  ...   \n",
       "2             NaN             NaN             NaN  ...   \n",
       "3             NaN             NaN             NaN  ...   \n",
       "4       -4.437500       -0.889160       -1.173828  ...   \n",
       "\n",
       "   user_click_item_w2w_sim_sum_2  user_item_txt_sim  \\\n",
       "0                       1.739258           0.000000   \n",
       "1                       1.750000           0.470703   \n",
       "2                       1.706055           0.000000   \n",
       "3                       1.163086           0.000000   \n",
       "4                       1.778320           0.570312   \n",
       "\n",
       "   user_click_item_txt_sim_sum  user_click_item_txt_sim_max  \\\n",
       "0                     0.000000                     0.000000   \n",
       "1                     0.319336                     0.465332   \n",
       "2                     0.000000                     0.000000   \n",
       "3                     0.000000                     0.000000   \n",
       "4                     0.412598                     0.546387   \n",
       "\n",
       "   user_last_click_item_txt_sim  user_click_item_txt_sim_rolling2_sum  \\\n",
       "0                           0.0                                   0.0   \n",
       "1                           0.0                                   0.0   \n",
       "2                           0.0                                   0.0   \n",
       "3                           0.0                                   0.0   \n",
       "4                           0.0                                   0.0   \n",
       "\n",
       "   user_click_item_txt_sim_rolling2_mean  \\\n",
       "0                                    0.0   \n",
       "1                                    0.0   \n",
       "2                                    0.0   \n",
       "3                                    0.0   \n",
       "4                                    0.0   \n",
       "\n",
       "   user_click_item_txt_sim_rolling3_mean  user_item_img_sim  \\\n",
       "0                               0.000000           0.000000   \n",
       "1                               0.465332          -0.074768   \n",
       "2                               0.000000           0.000000   \n",
       "3                               0.000000           0.000000   \n",
       "4                               0.459717          -0.096680   \n",
       "\n",
       "                       history  \n",
       "0  [19110, 24258, 39291, 6731]  \n",
       "1  [19110, 24258, 39291, 6731]  \n",
       "2  [19110, 24258, 39291, 6731]  \n",
       "3  [19110, 24258, 39291, 6731]  \n",
       "4  [19110, 24258, 39291, 6731]  \n",
       "\n",
       "[5 rows x 91 columns]"
      ]
     },
     "execution_count": 20,
     "metadata": {},
     "output_type": "execute_result"
    }
   ],
   "source": [
    "df_data.head()"
   ]
  },
  {
   "cell_type": "code",
   "execution_count": null,
   "metadata": {},
   "outputs": [],
   "source": []
  }
 ],
 "metadata": {
  "kernelspec": {
   "display_name": "Python [conda env:dm] *",
   "language": "python",
   "name": "conda-env-dm-py"
  },
  "language_info": {
   "codemirror_mode": {
    "name": "ipython",
    "version": 3
   },
   "file_extension": ".py",
   "mimetype": "text/x-python",
   "name": "python",
   "nbconvert_exporter": "python",
   "pygments_lexer": "ipython3",
   "version": "3.6.5"
  }
 },
 "nbformat": 4,
 "nbformat_minor": 2
}
