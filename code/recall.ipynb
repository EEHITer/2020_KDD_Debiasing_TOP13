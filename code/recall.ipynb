{
 "cells": [
  {
   "cell_type": "code",
   "execution_count": 1,
   "metadata": {
    "ExecuteTime": {
     "end_time": "2020-06-06T05:11:19.598860Z",
     "start_time": "2020-06-06T05:11:19.596702Z"
    }
   },
   "outputs": [],
   "source": [
    "# 这一步目的是将多路召回的item合并到一起，删除重复召回的item\n",
    "# 删除没有召回到真实item的训练集user，减少无用负样本"
   ]
  },
  {
   "cell_type": "code",
   "execution_count": 2,
   "metadata": {
    "ExecuteTime": {
     "end_time": "2020-06-06T05:11:19.923737Z",
     "start_time": "2020-06-06T05:11:19.600720Z"
    }
   },
   "outputs": [],
   "source": [
    "import pandas as pd\n",
    "import numpy as np\n",
    "from tqdm import tqdm\n",
    "from annoy import AnnoyIndex\n",
    "import os\n",
    "import warnings\n",
    "from collections import defaultdict\n",
    "import math\n",
    "\n",
    "pd.set_option('display.max_columns', None)\n",
    "pd.set_option('display.max_rows', None)\n",
    "pd.set_option('precision', 10)\n",
    "\n",
    "warnings.filterwarnings('ignore')"
   ]
  },
  {
   "cell_type": "code",
   "execution_count": 3,
   "metadata": {
    "ExecuteTime": {
     "end_time": "2020-06-06T05:11:50.702068Z",
     "start_time": "2020-06-06T05:11:19.925259Z"
    }
   },
   "outputs": [],
   "source": [
    "recall_v1 = pd.read_pickle('../user_data/data/recall_v1.pkl')\n",
    "recall_v2 = pd.read_pickle('../user_data/data/recall_v2.pkl')\n",
    "recall_v3 = pd.read_pickle('../user_data/data/recall_v3.pkl')\n",
    "recall_v4 = pd.read_pickle('../user_data/data/recall_v4.pkl')\n",
    "recall_v5 = pd.read_pickle('../user_data/data/recall_v5.pkl')\n",
    "recall_v6 = pd.read_pickle('../user_data/data/recall_v6.pkl')\n",
    "\n",
    "recall_list = [recall_v1, recall_v2, recall_v3, recall_v4, recall_v5, recall_v6]"
   ]
  },
  {
   "cell_type": "code",
   "execution_count": 4,
   "metadata": {
    "ExecuteTime": {
     "end_time": "2020-06-06T05:12:18.307333Z",
     "start_time": "2020-06-06T05:11:50.703272Z"
    }
   },
   "outputs": [
    {
     "name": "stdout",
     "output_type": "stream",
     "text": [
      "(78255223, 5)\n",
      "(58904530, 5)\n"
     ]
    }
   ],
   "source": [
    "recall = pd.concat(recall_list, sort=False)\n",
    "recall['phase'] = recall['phase'].astype('int')\n",
    "del recall['sim_score']\n",
    "recall.sort_values(['user_id', 'phase'], inplace=True)\n",
    "print(recall.shape)\n",
    "recall.drop_duplicates(subset=['user_id', 'phase', 'item_id'], inplace=True)\n",
    "print(recall.shape)"
   ]
  },
  {
   "cell_type": "code",
   "execution_count": 5,
   "metadata": {
    "ExecuteTime": {
     "end_time": "2020-06-06T05:12:18.494828Z",
     "start_time": "2020-06-06T05:12:18.308508Z"
    }
   },
   "outputs": [
    {
     "data": {
      "text/plain": [
       "[0, 1, 2, 3, 4, 5, 6]"
      ]
     },
     "execution_count": 5,
     "metadata": {},
     "output_type": "execute_result"
    }
   ],
   "source": [
    "phases = sorted(list(recall['phase'].unique()))\n",
    "phases"
   ]
  },
  {
   "cell_type": "code",
   "execution_count": 6,
   "metadata": {
    "ExecuteTime": {
     "end_time": "2020-06-06T05:12:22.784877Z",
     "start_time": "2020-06-06T05:12:18.495997Z"
    }
   },
   "outputs": [
    {
     "name": "stdout",
     "output_type": "stream",
     "text": [
      "phase 0 recall hit 0.24213276332977082\n",
      "phase 1 recall hit 0.24625280302136196\n",
      "phase 2 recall hit 0.25371079722288725\n",
      "phase 3 recall hit 0.2544616820249621\n",
      "phase 4 recall hit 0.26321703134240093\n",
      "phase 5 recall hit 0.26215956061378176\n",
      "phase 6 recall hit 0.2630417227456258\n"
     ]
    },
    {
     "data": {
      "text/plain": [
       "1.7849763603007909"
      ]
     },
     "execution_count": 6,
     "metadata": {},
     "output_type": "execute_result"
    }
   ],
   "source": [
    "recall_hit_total = 0\n",
    "for phase in phases:\n",
    "    recall_phase = recall[recall['phase'] == phase]\n",
    "\n",
    "    recall_hit = recall_phase[recall_phase['label'] == 1]['user_id'].nunique() / \\\n",
    "        recall_phase[recall_phase['label'].notnull()]['user_id'].nunique()\n",
    "    recall_hit_total += recall_hit\n",
    "    print('phase', phase, 'recall hit', recall_hit)\n",
    "recall_hit_total"
   ]
  },
  {
   "cell_type": "code",
   "execution_count": 7,
   "metadata": {
    "ExecuteTime": {
     "end_time": "2020-06-06T05:12:22.788761Z",
     "start_time": "2020-06-06T05:12:22.786933Z"
    }
   },
   "outputs": [],
   "source": [
    "# phase 0 recall hit 0.22099513121957012\n",
    "# phase 1 recall hit 0.2261890711672371\n",
    "# phase 2 recall hit 0.2341393344505626\n",
    "# phase 3 recall hit 0.23632334072086783\n",
    "# phase 4 recall hit 0.24452986398580723\n",
    "# phase 5 recall hit 0.24353094388766208\n",
    "# phase 6 recall hit 0.24382234185733512\n",
    "# 1.649530027289042\n",
    "\n",
    "# phase 0 recall hit 0.24213276332977082\n",
    "# phase 1 recall hit 0.24625280302136196\n",
    "# phase 2 recall hit 0.25371079722288725\n",
    "# phase 3 recall hit 0.2544616820249621\n",
    "# phase 4 recall hit 0.26321703134240093\n",
    "# phase 5 recall hit 0.26215956061378176\n",
    "# phase 6 recall hit 0.2630417227456258\n",
    "# 1.7849763603007909"
   ]
  },
  {
   "cell_type": "code",
   "execution_count": 8,
   "metadata": {
    "ExecuteTime": {
     "end_time": "2020-06-06T05:12:27.183391Z",
     "start_time": "2020-06-06T05:12:22.790133Z"
    }
   },
   "outputs": [
    {
     "name": "stdout",
     "output_type": "stream",
     "text": [
      "phase 0 train_user_num 16842 test_user_num 1663\n",
      "phase 1 train_user_num 16946 test_user_num 1726\n",
      "phase 2 train_user_num 16708 test_user_num 1690\n",
      "phase 3 train_user_num 17146 test_user_num 1675\n",
      "phase 4 train_user_num 16910 test_user_num 1708\n",
      "phase 5 train_user_num 17661 test_user_num 1798\n",
      "phase 6 train_user_num 18575 test_user_num 1821\n"
     ]
    }
   ],
   "source": [
    "for phase in phases:\n",
    "    recall_phase = recall[recall['phase'] == phase]\n",
    "\n",
    "    test_user_num = recall_phase[recall_phase['label'].isnull(\n",
    "    )]['user_id'].nunique()\n",
    "    train_user_num = recall_phase[recall_phase['label'].notnull(\n",
    "    )]['user_id'].nunique()\n",
    "\n",
    "    print('phase', phase, 'train_user_num',\n",
    "          train_user_num, 'test_user_num', test_user_num)"
   ]
  },
  {
   "cell_type": "code",
   "execution_count": 9,
   "metadata": {
    "ExecuteTime": {
     "end_time": "2020-06-06T05:12:27.193574Z",
     "start_time": "2020-06-06T05:12:27.184426Z"
    }
   },
   "outputs": [
    {
     "data": {
      "text/html": [
       "<div>\n",
       "<style scoped>\n",
       "    .dataframe tbody tr th:only-of-type {\n",
       "        vertical-align: middle;\n",
       "    }\n",
       "\n",
       "    .dataframe tbody tr th {\n",
       "        vertical-align: top;\n",
       "    }\n",
       "\n",
       "    .dataframe thead th {\n",
       "        text-align: right;\n",
       "    }\n",
       "</style>\n",
       "<table border=\"1\" class=\"dataframe\">\n",
       "  <thead>\n",
       "    <tr style=\"text-align: right;\">\n",
       "      <th></th>\n",
       "      <th>user_id</th>\n",
       "      <th>phase</th>\n",
       "      <th>query_time</th>\n",
       "      <th>item_id</th>\n",
       "      <th>label</th>\n",
       "    </tr>\n",
       "  </thead>\n",
       "  <tbody>\n",
       "    <tr>\n",
       "      <th>0</th>\n",
       "      <td>1</td>\n",
       "      <td>0</td>\n",
       "      <td>0.9839419315</td>\n",
       "      <td>92349</td>\n",
       "      <td>0.0</td>\n",
       "    </tr>\n",
       "    <tr>\n",
       "      <th>1</th>\n",
       "      <td>1</td>\n",
       "      <td>0</td>\n",
       "      <td>0.9839419315</td>\n",
       "      <td>87837</td>\n",
       "      <td>0.0</td>\n",
       "    </tr>\n",
       "    <tr>\n",
       "      <th>2</th>\n",
       "      <td>1</td>\n",
       "      <td>0</td>\n",
       "      <td>0.9839419315</td>\n",
       "      <td>38168</td>\n",
       "      <td>0.0</td>\n",
       "    </tr>\n",
       "    <tr>\n",
       "      <th>3</th>\n",
       "      <td>1</td>\n",
       "      <td>0</td>\n",
       "      <td>0.9839419315</td>\n",
       "      <td>91290</td>\n",
       "      <td>0.0</td>\n",
       "    </tr>\n",
       "    <tr>\n",
       "      <th>4</th>\n",
       "      <td>1</td>\n",
       "      <td>0</td>\n",
       "      <td>0.9839419315</td>\n",
       "      <td>13663</td>\n",
       "      <td>0.0</td>\n",
       "    </tr>\n",
       "  </tbody>\n",
       "</table>\n",
       "</div>"
      ],
      "text/plain": [
       "   user_id  phase    query_time  item_id  label\n",
       "0        1      0  0.9839419315    92349    0.0\n",
       "1        1      0  0.9839419315    87837    0.0\n",
       "2        1      0  0.9839419315    38168    0.0\n",
       "3        1      0  0.9839419315    91290    0.0\n",
       "4        1      0  0.9839419315    13663    0.0"
      ]
     },
     "execution_count": 9,
     "metadata": {},
     "output_type": "execute_result"
    }
   ],
   "source": [
    "recall.head()"
   ]
  },
  {
   "cell_type": "code",
   "execution_count": 10,
   "metadata": {
    "ExecuteTime": {
     "end_time": "2020-06-06T05:14:54.941008Z",
     "start_time": "2020-06-06T05:12:27.194501Z"
    }
   },
   "outputs": [
    {
     "name": "stderr",
     "output_type": "stream",
     "text": [
      "100%|██████████| 132869/132869 [01:08<00:00, 1936.47it/s]\n"
     ]
    }
   ],
   "source": [
    "# 删除无正样本的训练集用户\n",
    "gg = recall.groupby(['user_id', 'phase'])\n",
    "useful_recall = []\n",
    "\n",
    "for (user_id, phase), g in tqdm(gg):\n",
    "    if g['label'].isnull().sum() > 0:\n",
    "        useful_recall.append(g)\n",
    "    else:\n",
    "        label_sum = g['label'].sum()\n",
    "        if label_sum > 1:\n",
    "            print('error', user_id)\n",
    "        elif label_sum == 1:\n",
    "            useful_recall.append(g)\n",
    "\n",
    "df_useful_recall = pd.concat(useful_recall, sort=False)"
   ]
  },
  {
   "cell_type": "code",
   "execution_count": 11,
   "metadata": {
    "ExecuteTime": {
     "end_time": "2020-06-06T05:14:56.920219Z",
     "start_time": "2020-06-06T05:14:54.950867Z"
    }
   },
   "outputs": [
    {
     "name": "stdout",
     "output_type": "stream",
     "text": [
      "phase 0 train_user_num 4078 test_user_num 1663\n",
      "phase 1 train_user_num 4173 test_user_num 1726\n",
      "phase 2 train_user_num 4239 test_user_num 1690\n",
      "phase 3 train_user_num 4363 test_user_num 1675\n",
      "phase 4 train_user_num 4451 test_user_num 1708\n",
      "phase 5 train_user_num 4630 test_user_num 1798\n",
      "phase 6 train_user_num 4886 test_user_num 1821\n"
     ]
    }
   ],
   "source": [
    "for phase in phases:\n",
    "    recall_phase = df_useful_recall[df_useful_recall['phase'] == phase]\n",
    "\n",
    "    test_user_num = recall_phase[recall_phase['label'].isnull(\n",
    "    )]['user_id'].nunique()\n",
    "    train_user_num = recall_phase[recall_phase['label'].notnull(\n",
    "    )]['user_id'].nunique()\n",
    "\n",
    "    print('phase', phase, 'train_user_num',\n",
    "          train_user_num, 'test_user_num', test_user_num)"
   ]
  },
  {
   "cell_type": "code",
   "execution_count": 12,
   "metadata": {
    "ExecuteTime": {
     "end_time": "2020-06-06T05:15:03.537533Z",
     "start_time": "2020-06-06T05:14:56.921256Z"
    }
   },
   "outputs": [],
   "source": [
    "df_useful_recall.to_pickle('../user_data/data/recall.pkl')"
   ]
  },
  {
   "cell_type": "code",
   "execution_count": 13,
   "metadata": {
    "ExecuteTime": {
     "end_time": "2020-06-06T05:15:03.547339Z",
     "start_time": "2020-06-06T05:15:03.539041Z"
    }
   },
   "outputs": [
    {
     "data": {
      "text/html": [
       "<div>\n",
       "<style scoped>\n",
       "    .dataframe tbody tr th:only-of-type {\n",
       "        vertical-align: middle;\n",
       "    }\n",
       "\n",
       "    .dataframe tbody tr th {\n",
       "        vertical-align: top;\n",
       "    }\n",
       "\n",
       "    .dataframe thead th {\n",
       "        text-align: right;\n",
       "    }\n",
       "</style>\n",
       "<table border=\"1\" class=\"dataframe\">\n",
       "  <thead>\n",
       "    <tr style=\"text-align: right;\">\n",
       "      <th></th>\n",
       "      <th>user_id</th>\n",
       "      <th>phase</th>\n",
       "      <th>query_time</th>\n",
       "      <th>item_id</th>\n",
       "      <th>label</th>\n",
       "    </tr>\n",
       "  </thead>\n",
       "  <tbody>\n",
       "    <tr>\n",
       "      <th>0</th>\n",
       "      <td>1</td>\n",
       "      <td>1</td>\n",
       "      <td>0.9839420823</td>\n",
       "      <td>101060</td>\n",
       "      <td>NaN</td>\n",
       "    </tr>\n",
       "    <tr>\n",
       "      <th>1</th>\n",
       "      <td>1</td>\n",
       "      <td>1</td>\n",
       "      <td>0.9839420823</td>\n",
       "      <td>92349</td>\n",
       "      <td>NaN</td>\n",
       "    </tr>\n",
       "    <tr>\n",
       "      <th>2</th>\n",
       "      <td>1</td>\n",
       "      <td>1</td>\n",
       "      <td>0.9839420823</td>\n",
       "      <td>46297</td>\n",
       "      <td>NaN</td>\n",
       "    </tr>\n",
       "    <tr>\n",
       "      <th>3</th>\n",
       "      <td>1</td>\n",
       "      <td>1</td>\n",
       "      <td>0.9839420823</td>\n",
       "      <td>94147</td>\n",
       "      <td>NaN</td>\n",
       "    </tr>\n",
       "    <tr>\n",
       "      <th>4</th>\n",
       "      <td>1</td>\n",
       "      <td>1</td>\n",
       "      <td>0.9839420823</td>\n",
       "      <td>102129</td>\n",
       "      <td>NaN</td>\n",
       "    </tr>\n",
       "  </tbody>\n",
       "</table>\n",
       "</div>"
      ],
      "text/plain": [
       "   user_id  phase    query_time  item_id  label\n",
       "0        1      1  0.9839420823   101060    NaN\n",
       "1        1      1  0.9839420823    92349    NaN\n",
       "2        1      1  0.9839420823    46297    NaN\n",
       "3        1      1  0.9839420823    94147    NaN\n",
       "4        1      1  0.9839420823   102129    NaN"
      ]
     },
     "execution_count": 13,
     "metadata": {},
     "output_type": "execute_result"
    }
   ],
   "source": [
    "df_useful_recall.head()"
   ]
  },
  {
   "cell_type": "code",
   "execution_count": 14,
   "metadata": {
    "ExecuteTime": {
     "end_time": "2020-06-06T05:15:05.227705Z",
     "start_time": "2020-06-06T05:15:03.548590Z"
    }
   },
   "outputs": [
    {
     "data": {
      "text/plain": [
       "(18853803, 5)"
      ]
     },
     "execution_count": 14,
     "metadata": {},
     "output_type": "execute_result"
    }
   ],
   "source": [
    "df_useful_recall.shape"
   ]
  },
  {
   "cell_type": "code",
   "execution_count": 15,
   "metadata": {
    "ExecuteTime": {
     "end_time": "2020-06-06T05:15:06.125338Z",
     "start_time": "2020-06-06T05:15:05.230188Z"
    }
   },
   "outputs": [
    {
     "name": "stdout",
     "output_type": "stream",
     "text": [
      "phase 0 433.96585960634036\n",
      "phase 1 434.3914222749619\n",
      "phase 2 435.2145387080452\n",
      "phase 3 440.2562106657834\n",
      "phase 4 442.9108621529469\n",
      "phase 5 443.63363410080893\n",
      "phase 6 444.5670195318324\n"
     ]
    }
   ],
   "source": [
    "for phase in phases:\n",
    "    recall_phase = df_useful_recall[df_useful_recall['phase'] == phase]\n",
    "\n",
    "    df = recall_phase['user_id'].value_counts().reset_index()\n",
    "    df.columns = ['user_id', 'cnt']\n",
    "    print('phase', phase, df['cnt'].mean())"
   ]
  },
  {
   "cell_type": "code",
   "execution_count": 16,
   "metadata": {
    "ExecuteTime": {
     "end_time": "2020-06-06T05:15:06.129543Z",
     "start_time": "2020-06-06T05:15:06.126845Z"
    }
   },
   "outputs": [],
   "source": [
    "# phase 0 373.2750232126277\n",
    "# phase 1 373.47094801223244\n",
    "# phase 2 373.6526240628347\n",
    "# phase 3 376.6348873755893\n",
    "# phase 4 378.364025329454\n",
    "# phase 5 379.4556484669618\n",
    "# phase 6 379.9409448818898\n",
    "\n",
    "# phase 0 433.96585960634036\n",
    "# phase 1 434.3914222749619\n",
    "# phase 2 435.2145387080452\n",
    "# phase 3 440.2562106657834\n",
    "# phase 4 442.9108621529469\n",
    "# phase 5 443.63363410080893\n",
    "# phase 6 444.5670195318324"
   ]
  },
  {
   "cell_type": "code",
   "execution_count": 17,
   "metadata": {
    "ExecuteTime": {
     "end_time": "2020-06-06T05:15:06.135093Z",
     "start_time": "2020-06-06T05:15:06.130753Z"
    }
   },
   "outputs": [
    {
     "data": {
      "text/plain": [
       "(18853803, 5)"
      ]
     },
     "execution_count": 17,
     "metadata": {},
     "output_type": "execute_result"
    }
   ],
   "source": [
    "df_useful_recall.shape"
   ]
  },
  {
   "cell_type": "code",
   "execution_count": 18,
   "metadata": {
    "ExecuteTime": {
     "end_time": "2020-06-06T05:15:06.598476Z",
     "start_time": "2020-06-06T05:15:06.136231Z"
    }
   },
   "outputs": [
    {
     "data": {
      "text/plain": [
       "(13492625, 5)"
      ]
     },
     "execution_count": 18,
     "metadata": {},
     "output_type": "execute_result"
    }
   ],
   "source": [
    "df_useful_recall[df_useful_recall['label'].notnull()].shape"
   ]
  },
  {
   "cell_type": "code",
   "execution_count": 19,
   "metadata": {
    "ExecuteTime": {
     "end_time": "2020-06-06T05:15:07.135728Z",
     "start_time": "2020-06-06T05:15:06.599620Z"
    }
   },
   "outputs": [
    {
     "data": {
      "text/plain": [
       "0.0    13461805\n",
       "1.0       30820\n",
       "Name: label, dtype: int64"
      ]
     },
     "execution_count": 19,
     "metadata": {},
     "output_type": "execute_result"
    }
   ],
   "source": [
    "df_useful_recall[df_useful_recall['label'].notnull()]['label'].value_counts()"
   ]
  },
  {
   "cell_type": "code",
   "execution_count": null,
   "metadata": {},
   "outputs": [],
   "source": []
  }
 ],
 "metadata": {
  "kernelspec": {
   "display_name": "Python 3",
   "language": "python",
   "name": "python3"
  },
  "language_info": {
   "codemirror_mode": {
    "name": "ipython",
    "version": 3
   },
   "file_extension": ".py",
   "mimetype": "text/x-python",
   "name": "python",
   "nbconvert_exporter": "python",
   "pygments_lexer": "ipython3",
   "version": "3.6.5"
  }
 },
 "nbformat": 4,
 "nbformat_minor": 2
}
